{
  "cells": [
    {
      "cell_type": "markdown",
      "metadata": {
        "id": "Gn93w7TRJchr"
      },
      "source": [
        "# TEDx Scraper\n",
        "\n",
        "\n",
        "This scraper downloads more than 4k talks from www.ted.com\n",
        "in order to create a dataset for research purporse.\n",
        "\n",
        "The main dataset is composed by the following attributes:\n",
        "- unique id\n",
        "- details\n",
        "- posted\n",
        "- main_speaker\n",
        "- event\n",
        "- title\n",
        "- num_views\n",
        "- url\n",
        "\n",
        "The tags dataset is composed by the following attributes (linked 1-n with the main dataset):\n",
        "- unique id\n",
        "- tag\n",
        "\n",
        "The \"watch next\" dataset is composed by the following attributes:\n",
        "- id\n",
        "- watch_next_id\n",
        "\n",
        "\n",
        "The  is organized with the following sections:\n",
        "\n",
        "- Setup of the env (install libraries, set up variables and credentials, ...)\n",
        "- Download of the index (with Selenium and Chrome Browser libraries + API)\n",
        "- Store the data on CSV files"
      ]
    },
    {
      "cell_type": "markdown",
      "metadata": {
        "id": "NJIuRg0-Jchs"
      },
      "source": [
        "### Setup of the env\n",
        "\n",
        "Install and import of python libraries"
      ]
    },
    {
      "cell_type": "code",
      "execution_count": 1,
      "metadata": {
        "colab": {
          "base_uri": "https://localhost:8080/"
        },
        "id": "nSWbVJ6KJhjz",
        "outputId": "636c141d-35f8-42b5-dfc3-ca65f3eeb8b3"
      },
      "outputs": [
        {
          "output_type": "stream",
          "name": "stdout",
          "text": [
            "Hit:1 http://archive.ubuntu.com/ubuntu jammy InRelease\n",
            "Get:2 http://archive.ubuntu.com/ubuntu jammy-updates InRelease [128 kB]\n",
            "Get:3 http://security.ubuntu.com/ubuntu jammy-security InRelease [129 kB]\n",
            "Get:4 https://cloud.r-project.org/bin/linux/ubuntu jammy-cran40/ InRelease [3,632 B]\n",
            "Get:5 https://r2u.stat.illinois.edu/ubuntu jammy InRelease [6,555 B]\n",
            "Get:6 https://developer.download.nvidia.com/compute/cuda/repos/ubuntu2204/x86_64  InRelease [1,581 B]\n",
            "Get:7 http://archive.ubuntu.com/ubuntu jammy-backports InRelease [127 kB]\n",
            "Hit:8 https://ppa.launchpadcontent.net/deadsnakes/ppa/ubuntu jammy InRelease\n",
            "Hit:9 https://ppa.launchpadcontent.net/graphics-drivers/ppa/ubuntu jammy InRelease\n",
            "Hit:10 https://ppa.launchpadcontent.net/ubuntugis/ppa/ubuntu jammy InRelease\n",
            "Get:11 http://archive.ubuntu.com/ubuntu jammy-updates/universe amd64 Packages [1,533 kB]\n",
            "Get:12 http://archive.ubuntu.com/ubuntu jammy-updates/restricted amd64 Packages [3,934 kB]\n",
            "Get:13 http://archive.ubuntu.com/ubuntu jammy-updates/main amd64 Packages [2,988 kB]\n",
            "Get:14 http://archive.ubuntu.com/ubuntu jammy-updates/multiverse amd64 Packages [64.2 kB]\n",
            "Get:15 https://r2u.stat.illinois.edu/ubuntu jammy/main amd64 Packages [2,668 kB]\n",
            "Get:16 https://r2u.stat.illinois.edu/ubuntu jammy/main all Packages [8,731 kB]\n",
            "Get:17 https://developer.download.nvidia.com/compute/cuda/repos/ubuntu2204/x86_64  Packages [1,369 kB]\n",
            "Get:18 http://security.ubuntu.com/ubuntu jammy-security/main amd64 Packages [2,682 kB]\n",
            "Get:19 http://security.ubuntu.com/ubuntu jammy-security/restricted amd64 Packages [3,774 kB]\n",
            "Get:20 http://security.ubuntu.com/ubuntu jammy-security/multiverse amd64 Packages [56.4 kB]\n",
            "Fetched 28.2 MB in 8s (3,484 kB/s)\n",
            "Reading package lists... Done\n",
            "Building dependency tree... Done\n",
            "Reading state information... Done\n",
            "33 packages can be upgraded. Run 'apt list --upgradable' to see them.\n",
            "\u001b[1;33mW: \u001b[0mSkipping acquire of configured file 'main/source/Sources' as repository 'https://r2u.stat.illinois.edu/ubuntu jammy InRelease' does not seem to provide it (sources.list entry misspelt?)\u001b[0m\n",
            "Reading package lists... Done\n",
            "Building dependency tree... Done\n",
            "Reading state information... Done\n",
            "curl is already the newest version (7.81.0-1ubuntu1.20).\n",
            "unzip is already the newest version (6.0-26ubuntu3.2).\n",
            "wget is already the newest version (1.21.2-2ubuntu1.1).\n",
            "0 upgraded, 0 newly installed, 0 to remove and 33 not upgraded.\n",
            "--2025-03-09 15:30:25--  http://archive.ubuntu.com/ubuntu/pool/main/libu/libu2f-host/libu2f-udev_1.1.4-1_all.deb\n",
            "Resolving archive.ubuntu.com (archive.ubuntu.com)... 91.189.91.82, 185.125.190.82, 185.125.190.81, ...\n",
            "Connecting to archive.ubuntu.com (archive.ubuntu.com)|91.189.91.82|:80... connected.\n",
            "HTTP request sent, awaiting response... 200 OK\n",
            "Length: 3708 (3.6K) [application/vnd.debian.binary-package]\n",
            "Saving to: ‘libu2f-udev_1.1.4-1_all.deb’\n",
            "\n",
            "libu2f-udev_1.1.4-1 100%[===================>]   3.62K  --.-KB/s    in 0s      \n",
            "\n",
            "2025-03-09 15:30:25 (294 MB/s) - ‘libu2f-udev_1.1.4-1_all.deb’ saved [3708/3708]\n",
            "\n",
            "Selecting previously unselected package libu2f-udev.\n",
            "(Reading database ... 124947 files and directories currently installed.)\n",
            "Preparing to unpack libu2f-udev_1.1.4-1_all.deb ...\n",
            "Unpacking libu2f-udev (1.1.4-1) ...\n",
            "Setting up libu2f-udev (1.1.4-1) ...\n",
            "--2025-03-09 15:30:26--  https://dl.google.com/linux/direct/google-chrome-stable_current_amd64.deb\n",
            "Resolving dl.google.com (dl.google.com)... 74.125.69.190, 74.125.69.136, 74.125.69.93, ...\n",
            "Connecting to dl.google.com (dl.google.com)|74.125.69.190|:443... connected.\n",
            "HTTP request sent, awaiting response... 200 OK\n",
            "Length: 114757600 (109M) [application/x-debian-package]\n",
            "Saving to: ‘google-chrome-stable_current_amd64.deb’\n",
            "\n",
            "google-chrome-stabl 100%[===================>] 109.44M   325MB/s    in 0.3s    \n",
            "\n",
            "2025-03-09 15:30:26 (325 MB/s) - ‘google-chrome-stable_current_amd64.deb’ saved [114757600/114757600]\n",
            "\n",
            "Selecting previously unselected package google-chrome-stable.\n",
            "(Reading database ... 124951 files and directories currently installed.)\n",
            "Preparing to unpack google-chrome-stable_current_amd64.deb ...\n",
            "Unpacking google-chrome-stable (134.0.6998.35-1) ...\n",
            "\u001b[1mdpkg:\u001b[0m dependency problems prevent configuration of google-chrome-stable:\n",
            " google-chrome-stable depends on libvulkan1; however:\n",
            "  Package libvulkan1 is not installed.\n",
            "\n",
            "\u001b[1mdpkg:\u001b[0m error processing package google-chrome-stable (--install):\n",
            " dependency problems - leaving unconfigured\n",
            "Processing triggers for mailcap (3.70+nmu1ubuntu1) ...\n",
            "Processing triggers for man-db (2.10.2-1) ...\n",
            "Errors were encountered while processing:\n",
            " google-chrome-stable\n",
            "Reading package lists... Done\n",
            "Building dependency tree... Done\n",
            "Reading state information... Done\n",
            "Correcting dependencies... Done\n",
            "The following additional packages will be installed:\n",
            "  libvulkan1 mesa-vulkan-drivers\n",
            "The following NEW packages will be installed:\n",
            "  libvulkan1 mesa-vulkan-drivers\n",
            "0 upgraded, 2 newly installed, 0 to remove and 34 not upgraded.\n",
            "1 not fully installed or removed.\n",
            "Need to get 10.9 MB of archives.\n",
            "After this operation, 51.3 MB of additional disk space will be used.\n",
            "Get:1 http://archive.ubuntu.com/ubuntu jammy/main amd64 libvulkan1 amd64 1.3.204.1-2 [128 kB]\n",
            "Get:2 http://archive.ubuntu.com/ubuntu jammy-updates/main amd64 mesa-vulkan-drivers amd64 23.2.1-1ubuntu3.1~22.04.3 [10.7 MB]\n",
            "Fetched 10.9 MB in 1s (19.4 MB/s)\n",
            "debconf: unable to initialize frontend: Dialog\n",
            "debconf: (No usable dialog-like program is installed, so the dialog based frontend cannot be used. at /usr/share/perl5/Debconf/FrontEnd/Dialog.pm line 78, <> line 2.)\n",
            "debconf: falling back to frontend: Readline\n",
            "debconf: unable to initialize frontend: Readline\n",
            "debconf: (This frontend requires a controlling tty.)\n",
            "debconf: falling back to frontend: Teletype\n",
            "dpkg-preconfigure: unable to re-open stdin: \n",
            "Selecting previously unselected package libvulkan1:amd64.\n",
            "(Reading database ... 125068 files and directories currently installed.)\n",
            "Preparing to unpack .../libvulkan1_1.3.204.1-2_amd64.deb ...\n",
            "Unpacking libvulkan1:amd64 (1.3.204.1-2) ...\n",
            "Selecting previously unselected package mesa-vulkan-drivers:amd64.\n",
            "Preparing to unpack .../mesa-vulkan-drivers_23.2.1-1ubuntu3.1~22.04.3_amd64.deb ...\n",
            "Unpacking mesa-vulkan-drivers:amd64 (23.2.1-1ubuntu3.1~22.04.3) ...\n",
            "Setting up libvulkan1:amd64 (1.3.204.1-2) ...\n",
            "Setting up mesa-vulkan-drivers:amd64 (23.2.1-1ubuntu3.1~22.04.3) ...\n",
            "Setting up google-chrome-stable (134.0.6998.35-1) ...\n",
            "update-alternatives: using /usr/bin/google-chrome-stable to provide /usr/bin/x-www-browser (x-www-browser) in auto mode\n",
            "update-alternatives: using /usr/bin/google-chrome-stable to provide /usr/bin/gnome-www-browser (gnome-www-browser) in auto mode\n",
            "update-alternatives: using /usr/bin/google-chrome-stable to provide /usr/bin/google-chrome (google-chrome) in auto mode\n",
            "Processing triggers for libc-bin (2.35-0ubuntu3.8) ...\n",
            "/sbin/ldconfig.real: /usr/local/lib/libtbbbind_2_5.so.3 is not a symbolic link\n",
            "\n",
            "/sbin/ldconfig.real: /usr/local/lib/libtcm.so.1 is not a symbolic link\n",
            "\n",
            "/sbin/ldconfig.real: /usr/local/lib/libtbbbind.so.3 is not a symbolic link\n",
            "\n",
            "/sbin/ldconfig.real: /usr/local/lib/libtbbbind_2_0.so.3 is not a symbolic link\n",
            "\n",
            "/sbin/ldconfig.real: /usr/local/lib/libur_adapter_opencl.so.0 is not a symbolic link\n",
            "\n",
            "/sbin/ldconfig.real: /usr/local/lib/libtbbmalloc.so.2 is not a symbolic link\n",
            "\n",
            "/sbin/ldconfig.real: /usr/local/lib/libtbbmalloc_proxy.so.2 is not a symbolic link\n",
            "\n",
            "/sbin/ldconfig.real: /usr/local/lib/libhwloc.so.15 is not a symbolic link\n",
            "\n",
            "/sbin/ldconfig.real: /usr/local/lib/libtbb.so.12 is not a symbolic link\n",
            "\n",
            "/sbin/ldconfig.real: /usr/local/lib/libur_loader.so.0 is not a symbolic link\n",
            "\n",
            "/sbin/ldconfig.real: /usr/local/lib/libumf.so.0 is not a symbolic link\n",
            "\n",
            "/sbin/ldconfig.real: /usr/local/lib/libur_adapter_level_zero.so.0 is not a symbolic link\n",
            "\n",
            "/sbin/ldconfig.real: /usr/local/lib/libtcm_debug.so.1 is not a symbolic link\n",
            "\n"
          ]
        },
        {
          "output_type": "execute_result",
          "data": {
            "text/plain": []
          },
          "metadata": {},
          "execution_count": 1
        }
      ],
      "source": [
        "%%shell\n",
        "sudo apt -y update\n",
        "sudo apt install -y wget curl unzip\n",
        "wget http://archive.ubuntu.com/ubuntu/pool/main/libu/libu2f-host/libu2f-udev_1.1.4-1_all.deb\n",
        "dpkg -i libu2f-udev_1.1.4-1_all.deb\n",
        "wget https://dl.google.com/linux/direct/google-chrome-stable_current_amd64.deb\n",
        "dpkg -i google-chrome-stable_current_amd64.deb\n",
        "sudo apt-get install -f"
      ]
    },
    {
      "cell_type": "code",
      "execution_count": 2,
      "metadata": {
        "colab": {
          "base_uri": "https://localhost:8080/"
        },
        "id": "B8FuNQXEJlXP",
        "outputId": "390a51fa-8b6b-4298-f662-af8e10631501"
      },
      "outputs": [
        {
          "output_type": "stream",
          "name": "stdout",
          "text": [
            "Collecting chromedriver-py\n",
            "  Downloading chromedriver_py-134.0.6998.35-py3-none-any.whl.metadata (2.0 kB)\n",
            "Downloading chromedriver_py-134.0.6998.35-py3-none-any.whl (42.8 MB)\n",
            "\u001b[2K   \u001b[90m━━━━━━━━━━━━━━━━━━━━━━━━━━━━━━━━━━━━━━━━\u001b[0m \u001b[32m42.8/42.8 MB\u001b[0m \u001b[31m21.0 MB/s\u001b[0m eta \u001b[36m0:00:00\u001b[0m\n",
            "\u001b[?25hInstalling collected packages: chromedriver-py\n",
            "Successfully installed chromedriver-py-134.0.6998.35\n",
            "Collecting selenium\n",
            "  Downloading selenium-4.29.0-py3-none-any.whl.metadata (7.1 kB)\n",
            "Requirement already satisfied: urllib3<3,>=1.26 in /usr/local/lib/python3.11/dist-packages (from urllib3[socks]<3,>=1.26->selenium) (2.3.0)\n",
            "Collecting trio~=0.17 (from selenium)\n",
            "  Downloading trio-0.29.0-py3-none-any.whl.metadata (8.5 kB)\n",
            "Collecting trio-websocket~=0.9 (from selenium)\n",
            "  Downloading trio_websocket-0.12.2-py3-none-any.whl.metadata (5.1 kB)\n",
            "Requirement already satisfied: certifi>=2021.10.8 in /usr/local/lib/python3.11/dist-packages (from selenium) (2025.1.31)\n",
            "Requirement already satisfied: typing_extensions~=4.9 in /usr/local/lib/python3.11/dist-packages (from selenium) (4.12.2)\n",
            "Requirement already satisfied: websocket-client~=1.8 in /usr/local/lib/python3.11/dist-packages (from selenium) (1.8.0)\n",
            "Requirement already satisfied: attrs>=23.2.0 in /usr/local/lib/python3.11/dist-packages (from trio~=0.17->selenium) (25.1.0)\n",
            "Requirement already satisfied: sortedcontainers in /usr/local/lib/python3.11/dist-packages (from trio~=0.17->selenium) (2.4.0)\n",
            "Requirement already satisfied: idna in /usr/local/lib/python3.11/dist-packages (from trio~=0.17->selenium) (3.10)\n",
            "Collecting outcome (from trio~=0.17->selenium)\n",
            "  Downloading outcome-1.3.0.post0-py2.py3-none-any.whl.metadata (2.6 kB)\n",
            "Requirement already satisfied: sniffio>=1.3.0 in /usr/local/lib/python3.11/dist-packages (from trio~=0.17->selenium) (1.3.1)\n",
            "Collecting wsproto>=0.14 (from trio-websocket~=0.9->selenium)\n",
            "  Downloading wsproto-1.2.0-py3-none-any.whl.metadata (5.6 kB)\n",
            "Requirement already satisfied: pysocks!=1.5.7,<2.0,>=1.5.6 in /usr/local/lib/python3.11/dist-packages (from urllib3[socks]<3,>=1.26->selenium) (1.7.1)\n",
            "Requirement already satisfied: h11<1,>=0.9.0 in /usr/local/lib/python3.11/dist-packages (from wsproto>=0.14->trio-websocket~=0.9->selenium) (0.14.0)\n",
            "Downloading selenium-4.29.0-py3-none-any.whl (9.5 MB)\n",
            "\u001b[2K   \u001b[90m━━━━━━━━━━━━━━━━━━━━━━━━━━━━━━━━━━━━━━━━\u001b[0m \u001b[32m9.5/9.5 MB\u001b[0m \u001b[31m17.5 MB/s\u001b[0m eta \u001b[36m0:00:00\u001b[0m\n",
            "\u001b[?25hDownloading trio-0.29.0-py3-none-any.whl (492 kB)\n",
            "\u001b[2K   \u001b[90m━━━━━━━━━━━━━━━━━━━━━━━━━━━━━━━━━━━━━━━━\u001b[0m \u001b[32m492.9/492.9 kB\u001b[0m \u001b[31m28.8 MB/s\u001b[0m eta \u001b[36m0:00:00\u001b[0m\n",
            "\u001b[?25hDownloading trio_websocket-0.12.2-py3-none-any.whl (21 kB)\n",
            "Downloading outcome-1.3.0.post0-py2.py3-none-any.whl (10 kB)\n",
            "Downloading wsproto-1.2.0-py3-none-any.whl (24 kB)\n",
            "Installing collected packages: wsproto, outcome, trio, trio-websocket, selenium\n",
            "Successfully installed outcome-1.3.0.post0 selenium-4.29.0 trio-0.29.0 trio-websocket-0.12.2 wsproto-1.2.0\n"
          ]
        }
      ],
      "source": [
        "!pip install chromedriver-py\n",
        "!pip install selenium"
      ]
    },
    {
      "cell_type": "code",
      "execution_count": 3,
      "metadata": {
        "id": "pQhLoLCDJqug"
      },
      "outputs": [],
      "source": [
        "import sys\n",
        "import logging\n",
        "from selenium.webdriver.remote.remote_connection import LOGGER\n",
        "LOGGER.setLevel(logging.WARNING)\n",
        "sys.path.insert(0,'/usr/lib/chromium-browser/chromedriver')\n",
        "from selenium import webdriver\n",
        "from selenium.webdriver.common.by import By\n",
        "from selenium.webdriver.chrome.service import Service\n",
        "from tqdm.notebook import tqdm\n",
        "import pandas as pd\n",
        "import time\n",
        "import hashlib\n",
        "import json\n",
        "import pprint\n",
        "from chromedriver_py import binary_path\n",
        "import requests\n"
      ]
    },
    {
      "cell_type": "markdown",
      "metadata": {
        "id": "qYUgzemVJcht"
      },
      "source": [
        "Set the following variables to download data:\n",
        "\n",
        "- max_page: max number of pages to loop (set to -1 to download all the pages)\n",
        "- sleep_time: to be polite with TEDx (number of seconds between different request)\n",
        "\n",
        "\n"
      ]
    },
    {
      "cell_type": "code",
      "execution_count": 4,
      "metadata": {
        "id": "kAXmNAeSJcht"
      },
      "outputs": [],
      "source": [
        "max_page = 300\n",
        "sleep_time = 1\n",
        "log = False"
      ]
    },
    {
      "cell_type": "code",
      "execution_count": 5,
      "metadata": {
        "id": "CvFW7l-xKHbC"
      },
      "outputs": [],
      "source": [
        "chrome_options = webdriver.ChromeOptions()\n",
        "chrome_options.add_argument('--headless')\n",
        "chrome_options.add_argument('--no-sandbox')\n",
        "chrome_options.add_argument('--disable-dev-shm-usage')\n",
        "chrome_options.add_argument(\"window-size=1900,800\")\n",
        "chrome_options.add_argument(\"user-agent=Mozilla/5.0 (Macintosh; Intel Mac OS X 10_15_7) AppleWebKit/537.36 (KHTML, like Gecko) Chrome/90.0.4430.212 Safari/537.36\")"
      ]
    },
    {
      "cell_type": "code",
      "execution_count": 6,
      "metadata": {
        "colab": {
          "base_uri": "https://localhost:8080/"
        },
        "id": "SRGgBRzcJcht",
        "outputId": "4253de19-0cbe-4ebe-aa72-560c202ee6df"
      },
      "outputs": [
        {
          "output_type": "stream",
          "name": "stdout",
          "text": [
            "Navigate to https://www.ted.com/talks?sort=newest\n"
          ]
        }
      ],
      "source": [
        "def get_browser():\n",
        "    service = Service(executable_path=binary_path)\n",
        "    wd = webdriver.Chrome(service=service, options=chrome_options)\n",
        "    return wd\n",
        "\n",
        "browser = get_browser()\n",
        "\n",
        "def talks_page():\n",
        "    url = 'https://www.ted.com/talks?sort=newest'\n",
        "    print(f'Navigate to {url}')\n",
        "    browser.get(url)\n",
        "    time.sleep(sleep_time * 4)\n",
        "    try:\n",
        "      cookie_btn = browser.find_elements(By.ID, 'onetrust-accept-btn-handler')\n",
        "      cookie_btn.click()\n",
        "    except:\n",
        "      pass\n",
        "    time.sleep(sleep_time)\n",
        "\n",
        "talks_page()"
      ]
    },
    {
      "cell_type": "code",
      "execution_count": 7,
      "metadata": {
        "colab": {
          "base_uri": "https://localhost:8080/",
          "height": 307
        },
        "id": "bja8H1STKanZ",
        "outputId": "1f04f328-8cba-4547-d535-7fde388ec8f0"
      },
      "outputs": [
        {
          "output_type": "stream",
          "name": "stdout",
          "text": [
            "Populating the interactive namespace from numpy and matplotlib\n"
          ]
        },
        {
          "output_type": "stream",
          "name": "stderr",
          "text": [
            "/usr/local/lib/python3.11/dist-packages/IPython/core/magics/pylab.py:159: UserWarning: pylab import has clobbered these variables: ['log']\n",
            "`%matplotlib` prevents importing * from pylab and numpy\n",
            "  warn(\"pylab import has clobbered these variables: %s\"  % clobbered +\n"
          ]
        },
        {
          "output_type": "display_data",
          "data": {
            "text/plain": [
              "<Figure size 640x480 with 1 Axes>"
            ],
            "image/png": "[encoded data removed]"
          },
          "metadata": {}
        }
      ],
      "source": [
        "browser.save_screenshot('screenshot.png')\n",
        "\n",
        "%pylab inline\n",
        "import matplotlib.pyplot as plt\n",
        "import matplotlib.image as mpimg\n",
        "img=mpimg.imread('/content/screenshot.png')\n",
        "imgplot = plt.imshow(img)\n",
        "plt.show()"
      ]
    },
    {
      "cell_type": "code",
      "execution_count": 8,
      "metadata": {
        "id": "Q74AP4dDOfzw"
      },
      "outputs": [],
      "source": [
        "final = []"
      ]
    },
    {
      "cell_type": "markdown",
      "metadata": {
        "id": "nJOObHyyJchu"
      },
      "source": [
        "# Get TEDx data\n"
      ]
    },
    {
      "cell_type": "markdown",
      "metadata": {
        "id": "24bhnwkwP6Zy"
      },
      "source": [
        "First of all we will take all the data using API. We will simulate the navigation in the web site and we will download the data for all the TED Talks."
      ]
    },
    {
      "cell_type": "code",
      "source": [
        "payload = [\n",
        "        {\"indexName\":\"newest\",\n",
        "         \"params\":{\"attributeForDistinct\": \"objectID\",\n",
        "                   \"distinct\": 1,\n",
        "                   \"facets\": [\"subtitle_languages\",\"tags\"],\n",
        "                   \"highlightPostTag\": \"__/ais-highlight__\",\n",
        "                   \"highlightPreTag\": \"__ais-highlight__\",\n",
        "                   \"hitsPerPage\": 24,\n",
        "                   \"maxValuesPerFacet\": 500,\n",
        "                   \"page\": 14,\"query\": \"\",\n",
        "                   \"tagFilters\": \"\"\n",
        "                  }\n",
        "        }\n",
        "    ]\n",
        "r = requests.post('https://zenith-prod-alt.ted.com/api/search',\n",
        "                  headers={'Content-type': 'application/json; charset=UTF-8',\n",
        "                            \"User-Agent\": \"curl/7.64.1\"},\n",
        "                json=payload)"
      ],
      "metadata": {
        "id": "JBZdA4GaiQlQ"
      },
      "execution_count": 17,
      "outputs": []
    },
    {
      "cell_type": "code",
      "source": [
        "my_tedx = r.json()['results'][0][\"hits\"]"
      ],
      "metadata": {
        "id": "bSS-BAPWiT0n"
      },
      "execution_count": 18,
      "outputs": []
    },
    {
      "cell_type": "code",
      "execution_count": 19,
      "metadata": {
        "colab": {
          "base_uri": "https://localhost:8080/",
          "height": 49,
          "referenced_widgets": [
            "cd0833b3513b4048a6e77f8c4808bc6c",
            "08da938167ee4370a078d9891260b060",
            "6fc9ace1d4c344d6812df33ec3ef98a3",
            "3846286d95f74710bb7b89989a43d3d8",
            "3c99668c4bfa4905b989bc7dc786cc3e",
            "c7310c970a104036b7f2ac0988fcda6e",
            "e21bf94f72954818825dd3fb8e819c42",
            "3916e20aebab4ea6adf978320d3c5357",
            "6dc1e90b9ab6403db2d7d9aa588502b8",
            "1b86c743824a499aaf28319e77e176d7",
            "8f44de9949f440e4a34d93ef0fe5c192"
          ]
        },
        "id": "y_mzD9EGOd5n",
        "outputId": "b51023b1-2037-4d63-81cb-0fdeb8abda80"
      },
      "outputs": [
        {
          "output_type": "display_data",
          "data": {
            "text/plain": [
              "  0%|          | 0/300 [00:00<?, ?it/s]"
            ],
            "application/vnd.jupyter.widget-view+json": {
              "version_major": 2,
              "version_minor": 0,
              "model_id": "cd0833b3513b4048a6e77f8c4808bc6c"
            }
          },
          "metadata": {}
        }
      ],
      "source": [
        "import time\n",
        "for page in tqdm(range(0, max_page)):\n",
        "    time.sleep(0.2)\n",
        "    payload = [\n",
        "        {\"indexName\":\"newest\",\n",
        "         \"params\":{\"attributeForDistinct\": \"objectID\",\n",
        "                   \"distinct\": 1,\n",
        "                   \"facets\": [\"subtitle_languages\",\"tags\"],\n",
        "                   \"highlightPostTag\": \"__/ais-highlight__\",\n",
        "                   \"highlightPreTag\": \"__ais-highlight__\",\n",
        "                   \"hitsPerPage\": 24,\n",
        "                   \"maxValuesPerFacet\": 500,\n",
        "                   \"page\": page,\"query\": \"\",\n",
        "                   \"tagFilters\": \"\"\n",
        "                  }\n",
        "        }\n",
        "    ]\n",
        "    r = requests.post('https://zenith-prod-alt.ted.com/api/search',\n",
        "                      headers={'Content-type': 'application/json; charset=UTF-8',\n",
        "                               \"User-Agent\": \"curl/7.64.1\"},\n",
        "                    json=payload)\n",
        "    my_tedx = r.json()['results'][0][\"hits\"]\n",
        "    final.extend(my_tedx)"
      ]
    },
    {
      "cell_type": "code",
      "execution_count": 20,
      "metadata": {
        "id": "e8Vd9EB7QA9x",
        "colab": {
          "base_uri": "https://localhost:8080/"
        },
        "outputId": "8a1c10c9-fec4-4336-d813-ec5896f85c8b"
      },
      "outputs": [
        {
          "output_type": "execute_result",
          "data": {
            "text/plain": [
              "{'objectID': '567505',\n",
              " '_index': 'coyote_models_acme_videos_index_1705009781900',\n",
              " '_score': None,\n",
              " 'duration': '1055.68',\n",
              " 'speakers': 'Ben Proudfoot',\n",
              " 'title': 'The true story of the iconic tagline “Because I’m worth it.” | The Final Copy of Ilon Specht',\n",
              " 'photos': [{'updated_at': '2025-02-27T15:30:11.000Z',\n",
              "   'description': 'Set 1',\n",
              "   'created_at': '2025-02-27T15:30:11.000Z',\n",
              "   'id': 164779,\n",
              "   'photo_sizes': [{'talkstar_photo_id': 164779,\n",
              "     'updated_at': '2025-02-28T20:25:53.000Z',\n",
              "     'width': 1920,\n",
              "     'created_at': '2025-02-27T15:31:56.000Z',\n",
              "     'id': 293409,\n",
              "     'talkstar_aspect_ratio_id': 2,\n",
              "     'url': 'https://talkstar-assets.s3.amazonaws.com/production/talks/talk_147074/db4647e7-5544-4b4e-a33c-144e62855770/Ilon_Specht_16x9.jpg',\n",
              "     'height': 1080},\n",
              "    {'talkstar_photo_id': 164779,\n",
              "     'updated_at': '2025-02-28T20:25:53.000Z',\n",
              "     'width': 1000,\n",
              "     'created_at': '2025-02-27T15:31:56.000Z',\n",
              "     'id': 293410,\n",
              "     'talkstar_aspect_ratio_id': 36,\n",
              "     'url': 'https://talkstar-assets.s3.amazonaws.com/production/talks/talk_147074/a3f95eb7-fd32-44d8-b0e6-0d5e69e78f5a/Ilon_Specht_2x1.jpg',\n",
              "     'height': 500},\n",
              "    {'talkstar_photo_id': 164779,\n",
              "     'updated_at': '2025-02-28T20:25:53.000Z',\n",
              "     'width': 2400,\n",
              "     'created_at': '2025-02-27T16:36:04.000Z',\n",
              "     'id': 293505,\n",
              "     'talkstar_aspect_ratio_id': 3,\n",
              "     'url': 'https://talkstar-assets.s3.amazonaws.com/production/talks/talk_147074/a790f3be-8923-446e-8ee3-3313c1739494/Ilon_Specht_4x3.jpg',\n",
              "     'height': 1800}]}],\n",
              " 'slug': 'ben_proudfoot_the_true_story_of_the_iconic_tagline_because_i_m_worth_it_the_final_copy_of_ilon_specht'}"
            ]
          },
          "metadata": {},
          "execution_count": 20
        }
      ],
      "source": [
        "final[0]"
      ]
    },
    {
      "cell_type": "markdown",
      "metadata": {
        "id": "BvixPK9cQBUa"
      },
      "source": [
        "We have more than 6k talks:"
      ]
    },
    {
      "cell_type": "code",
      "execution_count": 22,
      "metadata": {
        "colab": {
          "base_uri": "https://localhost:8080/"
        },
        "id": "iFhqeUEiP-Gs",
        "outputId": "b578c568-f535-4587-e5b5-140faba56fa2"
      },
      "outputs": [
        {
          "output_type": "execute_result",
          "data": {
            "text/plain": [
              "7967"
            ]
          },
          "metadata": {},
          "execution_count": 22
        }
      ],
      "source": [
        "len(final)"
      ]
    },
    {
      "cell_type": "markdown",
      "metadata": {
        "id": "HBQUi08vQEXN"
      },
      "source": [
        "with this structure:"
      ]
    },
    {
      "cell_type": "markdown",
      "metadata": {
        "id": "wcwONo96QMPp"
      },
      "source": [
        "Now we will parse the result:"
      ]
    },
    {
      "cell_type": "code",
      "execution_count": 23,
      "metadata": {
        "id": "rYo5hKWGQHt3"
      },
      "outputs": [],
      "source": [
        "final_list = []\n",
        "for talk in final:\n",
        "  slug = talk[\"slug\"]\n",
        "  final_list.append({\n",
        "      'id': talk[\"objectID\"],\n",
        "      'slug': talk[\"slug\"],\n",
        "      'speakers': talk[\"speakers\"],\n",
        "      'title': talk[\"title\"],\n",
        "      \"url\": f'https://www.ted.com/talks/{slug}'\n",
        "  })"
      ]
    },
    {
      "cell_type": "code",
      "execution_count": 24,
      "metadata": {
        "colab": {
          "base_uri": "https://localhost:8080/"
        },
        "id": "ubEKuLflRfOt",
        "outputId": "ec309036-6950-48e9-e228-c9c526377481"
      },
      "outputs": [
        {
          "output_type": "execute_result",
          "data": {
            "text/plain": [
              "{'id': '567505',\n",
              " 'slug': 'ben_proudfoot_the_true_story_of_the_iconic_tagline_because_i_m_worth_it_the_final_copy_of_ilon_specht',\n",
              " 'speakers': 'Ben Proudfoot',\n",
              " 'title': 'The true story of the iconic tagline “Because I’m worth it.” | The Final Copy of Ilon Specht',\n",
              " 'url': 'https://www.ted.com/talks/ben_proudfoot_the_true_story_of_the_iconic_tagline_because_i_m_worth_it_the_final_copy_of_ilon_specht'}"
            ]
          },
          "metadata": {},
          "execution_count": 24
        }
      ],
      "source": [
        "final_list[0]"
      ]
    },
    {
      "cell_type": "code",
      "execution_count": 25,
      "metadata": {
        "colab": {
          "base_uri": "https://localhost:8080/"
        },
        "id": "imihqn1fMzBp",
        "outputId": "15af2d8c-1600-4bc2-999e-bd7e0c5c6643"
      },
      "outputs": [
        {
          "output_type": "execute_result",
          "data": {
            "text/plain": [
              "7967"
            ]
          },
          "metadata": {},
          "execution_count": 25
        }
      ],
      "source": [
        "len(final_list)"
      ]
    },
    {
      "cell_type": "markdown",
      "source": [
        "# Details"
      ],
      "metadata": {
        "id": "XW4EmRcHNvgk"
      }
    },
    {
      "cell_type": "code",
      "source": [
        "details = []\n",
        "images = []\n",
        "tags = []\n",
        "related_videos = []\n",
        "ready = []"
      ],
      "metadata": {
        "id": "9129O6dSShz9"
      },
      "execution_count": 26,
      "outputs": []
    },
    {
      "cell_type": "code",
      "source": [
        "for video in tqdm(final_list):\n",
        "  slug = video[\"slug\"]\n",
        "  if slug not in ready:\n",
        "    query = f\"\"\"\n",
        "      {{video(slug:\n",
        "        \"{slug}\",\n",
        "        language: \"en\")\n",
        "        {{description\n",
        "        socialDescription\n",
        "        duration\n",
        "        id\n",
        "        presenterDisplayName\n",
        "        primaryImageSet {{url}}\n",
        "        publishedAt\n",
        "        topics {{nodes {{name}}}}\n",
        "        relatedVideos {{\n",
        "          id\n",
        "          slug\n",
        "          title\n",
        "          duration\n",
        "          viewedCount\n",
        "          presenterDisplayName}}\n",
        "        }}}}\n",
        "    \"\"\"\n",
        "    payload = [{\n",
        "          \"operationName\": None,\n",
        "          \"variables\": {},\n",
        "          \"query\": query}]\n",
        "    r = requests.post('https://www.ted.com/graphql',\n",
        "                      headers={'Content-type': 'application/json; charset=UTF-8',\n",
        "                                \"User-Agent\": \"curl/7.64.1\"},\n",
        "                    json=payload)\n",
        "    if len(r.json()[0]) > 0 and r.json()[0][\"data\"] is not None and r.json()[0][\"data\"][\"video\"] is not None:\n",
        "      details.append({\n",
        "              \"id\": video[\"id\"],\n",
        "              \"slug\": video[\"slug\"],\n",
        "              \"interalId\": r.json()[0]['data'][\"video\"][\"id\"],\n",
        "              \"description\": r.json()[0]['data'][\"video\"][\"description\"],\n",
        "              \"duration\": r.json()[0]['data'][\"video\"][\"duration\"],\n",
        "              \"socialDescription\": r.json()[0]['data'][\"video\"][\"socialDescription\"],\n",
        "              \"presenterDisplayName\": r.json()[0]['data'][\"video\"][\"presenterDisplayName\"],\n",
        "              \"publishedAt\": r.json()[0]['data'][\"video\"][\"publishedAt\"],\n",
        "              \"publishedAt\": r.json()[0]['data'][\"video\"][\"publishedAt\"]\n",
        "          }\n",
        "      )\n",
        "      if len(r.json()[0][\"data\"][\"video\"][\"primaryImageSet\"]) > 0:\n",
        "        for image in r.json()[0][\"data\"][\"video\"][\"primaryImageSet\"]:\n",
        "          images.append({\n",
        "              \"id\": video[\"id\"],\n",
        "              \"slug\": video[\"slug\"],\n",
        "              \"url\": image[\"url\"]\n",
        "          })\n",
        "      if len(r.json()[0][\"data\"][\"video\"][\"relatedVideos\"]) > 0:\n",
        "        for related in r.json()[0][\"data\"][\"video\"][\"relatedVideos\"]:\n",
        "          related_videos.append({\n",
        "              \"id\": video[\"id\"],\n",
        "              \"internalId\": r.json()[0]['data'][\"video\"][\"id\"],\n",
        "              \"related_id\": related[\"id\"],\n",
        "              \"slug\": related[\"slug\"],\n",
        "              \"title\": related[\"title\"],\n",
        "              \"duration\": related[\"duration\"],\n",
        "              \"viewedCount\": related[\"viewedCount\"],\n",
        "              \"presenterDisplayName\": related[\"presenterDisplayName\"]})\n",
        "      if len(r.json()[0][\"data\"][\"video\"][\"topics\"][\"nodes\"]) > 0:\n",
        "        for topic in r.json()[0][\"data\"][\"video\"][\"topics\"][\"nodes\"]:\n",
        "          tags.append({\n",
        "              \"id\": video[\"id\"],\n",
        "              \"slug\": video[\"slug\"],\n",
        "              \"internalId\": r.json()[0]['data'][\"video\"][\"id\"],\n",
        "              \"tag\": topic[\"name\"]})\n",
        "  ready.append(slug)\n"
      ],
      "metadata": {
        "colab": {
          "base_uri": "https://localhost:8080/",
          "height": 49,
          "referenced_widgets": [
            "81923d1e39484234ab5343e39f4297b9",
            "21aab5e3a2b64e76b803df40f3b181bc",
            "0b431a2e169b4d598598ab6e6dc68c6e",
            "7260c202e6b34b9aafd7bd1907970b07",
            "48132e43bbcf48bd90352b9e0cc580c9",
            "d6a0033b1fd848d799c8bf46d0827adc",
            "fe1ebae35e7b41c19f0553ed4faaff5c",
            "630ae3813d054adabb0a7e86cbc5d94d",
            "5a058ae059be40f981afc224a7f54b18",
            "866a92554df24a87878424672642da7b",
            "878a33e40f224731a78da7bf8e82545e"
          ]
        },
        "id": "GHTfvo0uNxAr",
        "outputId": "5d67b7ca-15ad-401d-d558-efdba4bd3eb3"
      },
      "execution_count": 27,
      "outputs": [
        {
          "output_type": "display_data",
          "data": {
            "text/plain": [
              "  0%|          | 0/7967 [00:00<?, ?it/s]"
            ],
            "application/vnd.jupyter.widget-view+json": {
              "version_major": 2,
              "version_minor": 0,
              "model_id": "81923d1e39484234ab5343e39f4297b9"
            }
          },
          "metadata": {}
        }
      ]
    },
    {
      "cell_type": "code",
      "source": [
        "len(details)"
      ],
      "metadata": {
        "colab": {
          "base_uri": "https://localhost:8080/"
        },
        "id": "0VX_zp4PhbRi",
        "outputId": "ee42a3c2-021a-4a4a-e8dd-193db15cb49b"
      },
      "execution_count": 28,
      "outputs": [
        {
          "output_type": "execute_result",
          "data": {
            "text/plain": [
              "7055"
            ]
          },
          "metadata": {},
          "execution_count": 28
        }
      ]
    },
    {
      "cell_type": "code",
      "source": [
        "related_videos[0]"
      ],
      "metadata": {
        "colab": {
          "base_uri": "https://localhost:8080/"
        },
        "id": "9PVhD9cgNzTy",
        "outputId": "01859c81-a62c-4472-8b60-091c5f18aeee"
      },
      "execution_count": 29,
      "outputs": [
        {
          "output_type": "execute_result",
          "data": {
            "text/plain": [
              "{'id': '567505',\n",
              " 'internalId': '147074',\n",
              " 'related_id': '121643',\n",
              " 'slug': 'mary_ann_sieghart_why_are_women_still_taken_less_seriously_than_men',\n",
              " 'title': 'Why are women still taken less seriously than men?',\n",
              " 'duration': 769,\n",
              " 'viewedCount': 714134,\n",
              " 'presenterDisplayName': 'Mary Ann Sieghart'}"
            ]
          },
          "metadata": {},
          "execution_count": 29
        }
      ]
    },
    {
      "cell_type": "code",
      "source": [
        "details[0]"
      ],
      "metadata": {
        "colab": {
          "base_uri": "https://localhost:8080/"
        },
        "id": "R_8YY4YZNzWD",
        "outputId": "1407fa5d-5ecf-4790-aed4-59f55c8e386b"
      },
      "execution_count": 30,
      "outputs": [
        {
          "output_type": "execute_result",
          "data": {
            "text/plain": [
              "{'id': '567505',\n",
              " 'slug': 'ben_proudfoot_the_true_story_of_the_iconic_tagline_because_i_m_worth_it_the_final_copy_of_ilon_specht',\n",
              " 'interalId': '147074',\n",
              " 'description': 'From two-time Oscar winner Ben Proudfoot comes THE FINAL COPY OF ILON SPECHT, an intimate deathbed account of the unsung advertising genius who coined L\\'Oréal\\'s iconic \"Because I\\'m Worth It\" slogan in 1973, creating a four-word feminist manifesto that, against all odds, changed advertising forever. Produced by Traverse32 and Breakwater Studios in partnership with L’Oréal Paris and McCann. (Contains mature language)',\n",
              " 'duration': 1059,\n",
              " 'socialDescription': 'From two-time Oscar winner Ben Proudfoot comes THE FINAL COPY OF ILON SPECHT, an intimate deathbed account of the unsung advertising genius who coined L\\'Oréal\\'s iconic \"Because I\\'m Worth It\" slogan in 1973, creating a four-word feminist manifesto that, against all odds, changed advertising forever. Produced by Traverse32 and Breakwater Studios in partnership with L’Oréal Paris and McCann. (Contains mature language)',\n",
              " 'presenterDisplayName': 'Ben Proudfoot',\n",
              " 'publishedAt': '2025-03-07T13:49:56Z'}"
            ]
          },
          "metadata": {},
          "execution_count": 30
        }
      ]
    },
    {
      "cell_type": "code",
      "source": [
        "tags[0]"
      ],
      "metadata": {
        "colab": {
          "base_uri": "https://localhost:8080/"
        },
        "id": "dbDswH8uNzYf",
        "outputId": "42f353de-7e1b-4efa-8168-83236b82c564"
      },
      "execution_count": 31,
      "outputs": [
        {
          "output_type": "execute_result",
          "data": {
            "text/plain": [
              "{'id': '567505',\n",
              " 'slug': 'ben_proudfoot_the_true_story_of_the_iconic_tagline_because_i_m_worth_it_the_final_copy_of_ilon_specht',\n",
              " 'internalId': '147074',\n",
              " 'tag': 'culture'}"
            ]
          },
          "metadata": {},
          "execution_count": 31
        }
      ]
    },
    {
      "cell_type": "code",
      "execution_count": 32,
      "metadata": {
        "id": "dQIPXGnbUt9v",
        "colab": {
          "base_uri": "https://localhost:8080/"
        },
        "outputId": "850d4352-ee13-4397-a756-033d7ee7275e"
      },
      "outputs": [
        {
          "output_type": "execute_result",
          "data": {
            "text/plain": [
              "{'id': '567505',\n",
              " 'slug': 'ben_proudfoot_the_true_story_of_the_iconic_tagline_because_i_m_worth_it_the_final_copy_of_ilon_specht',\n",
              " 'url': 'https://talkstar-assets.s3.amazonaws.com/production/talks/talk_147074/db4647e7-5544-4b4e-a33c-144e62855770/Ilon_Specht_16x9.jpg'}"
            ]
          },
          "metadata": {},
          "execution_count": 32
        }
      ],
      "source": [
        "images[0]"
      ]
    },
    {
      "cell_type": "code",
      "execution_count": 32,
      "metadata": {
        "id": "GrvhFV7dZxa5"
      },
      "outputs": [],
      "source": []
    },
    {
      "cell_type": "code",
      "execution_count": 32,
      "metadata": {
        "id": "pSF6h41nJchu"
      },
      "outputs": [],
      "source": []
    },
    {
      "cell_type": "markdown",
      "metadata": {
        "id": "zX_GpIY5Jchu"
      },
      "source": [
        "## Store the data to CSV file\n",
        "\n"
      ]
    },
    {
      "cell_type": "code",
      "execution_count": 32,
      "metadata": {
        "id": "mY8cIGHQJchu"
      },
      "outputs": [],
      "source": []
    },
    {
      "cell_type": "code",
      "execution_count": 33,
      "metadata": {
        "id": "MBMOQqgEJchu"
      },
      "outputs": [],
      "source": [
        "df = pd.DataFrame.from_dict(final_list)\n",
        "df = df.to_csv('final_list.csv', index=False)"
      ]
    },
    {
      "cell_type": "code",
      "execution_count": 34,
      "metadata": {
        "id": "wA5r3Xf5TIxa"
      },
      "outputs": [],
      "source": [
        "df = pd.DataFrame.from_dict(details)\n",
        "df = df.to_csv('details.csv', index=False)"
      ]
    },
    {
      "cell_type": "code",
      "execution_count": 35,
      "metadata": {
        "id": "vVFd-BjVJchu"
      },
      "outputs": [],
      "source": [
        "df = pd.DataFrame.from_dict(tags)\n",
        "df = df.to_csv('tags.csv', index=False)"
      ]
    },
    {
      "cell_type": "code",
      "execution_count": 38,
      "metadata": {
        "id": "rRtUYTk1Jchu"
      },
      "outputs": [],
      "source": [
        "df = pd.DataFrame.from_dict(images)\n",
        "df = df.to_csv('images.csv', index=False)"
      ]
    },
    {
      "cell_type": "code",
      "execution_count": 37,
      "metadata": {
        "id": "o0cLqL9DJchv"
      },
      "outputs": [],
      "source": [
        "df = pd.DataFrame.from_dict(related_videos)\n",
        "df = df.to_csv('related_videos.csv', index=False)"
      ]
    },
    {
      "cell_type": "code",
      "execution_count": null,
      "metadata": {
        "id": "1jhGw7HjJchv"
      },
      "outputs": [],
      "source": []
    },
    {
      "cell_type": "code",
      "execution_count": null,
      "metadata": {
        "id": "Gj4Q-_5bJchv"
      },
      "outputs": [],
      "source": []
    },
    {
      "cell_type": "code",
      "execution_count": null,
      "metadata": {
        "id": "Js8FACKSJchv"
      },
      "outputs": [],
      "source": []
    },
    {
      "cell_type": "code",
      "execution_count": null,
      "metadata": {
        "id": "2spq-s0-Jchv"
      },
      "outputs": [],
      "source": []
    },
    {
      "cell_type": "code",
      "execution_count": null,
      "metadata": {
        "id": "UdepYuqjJchv"
      },
      "outputs": [],
      "source": []
    }
  ],
  "metadata": {
    "colab": {
      "provenance": []
    },
    "kernelspec": {
      "display_name": "Python 3.7.6 64-bit",
      "language": "python",
      "name": "python37664bit5432155c863f47538fac2a404dac50c9"
    },
    "language_info": {
      "codemirror_mode": {
        "name": "ipython",
        "version": 3
      },
      "file_extension": ".py",
      "mimetype": "text/x-python",
      "name": "python",
      "nbconvert_exporter": "python",
      "pygments_lexer": "ipython3",
      "version": "3.7.7"
    },
    "widgets": {
      "application/vnd.jupyter.widget-state+json": {
        "cd0833b3513b4048a6e77f8c4808bc6c": {
          "model_module": "@jupyter-widgets/controls",
          "model_name": "HBoxModel",
          "model_module_version": "1.5.0",
          "state": {
            "_dom_classes": [],
            "_model_module": "@jupyter-widgets/controls",
            "_model_module_version": "1.5.0",
            "_model_name": "HBoxModel",
            "_view_count": null,
            "_view_module": "@jupyter-widgets/controls",
            "_view_module_version": "1.5.0",
            "_view_name": "HBoxView",
            "box_style": "",
            "children": [
              "IPY_MODEL_08da938167ee4370a078d9891260b060",
              "IPY_MODEL_6fc9ace1d4c344d6812df33ec3ef98a3",
              "IPY_MODEL_3846286d95f74710bb7b89989a43d3d8"
            ],
            "layout": "IPY_MODEL_3c99668c4bfa4905b989bc7dc786cc3e"
          }
        },
        "08da938167ee4370a078d9891260b060": {
          "model_module": "@jupyter-widgets/controls",
          "model_name": "HTMLModel",
          "model_module_version": "1.5.0",
          "state": {
            "_dom_classes": [],
            "_model_module": "@jupyter-widgets/controls",
            "_model_module_version": "1.5.0",
            "_model_name": "HTMLModel",
            "_view_count": null,
            "_view_module": "@jupyter-widgets/controls",
            "_view_module_version": "1.5.0",
            "_view_name": "HTMLView",
            "description": "",
            "description_tooltip": null,
            "layout": "IPY_MODEL_c7310c970a104036b7f2ac0988fcda6e",
            "placeholder": "​",
            "style": "IPY_MODEL_e21bf94f72954818825dd3fb8e819c42",
            "value": "100%"
          }
        },
        "6fc9ace1d4c344d6812df33ec3ef98a3": {
          "model_module": "@jupyter-widgets/controls",
          "model_name": "FloatProgressModel",
          "model_module_version": "1.5.0",
          "state": {
            "_dom_classes": [],
            "_model_module": "@jupyter-widgets/controls",
            "_model_module_version": "1.5.0",
            "_model_name": "FloatProgressModel",
            "_view_count": null,
            "_view_module": "@jupyter-widgets/controls",
            "_view_module_version": "1.5.0",
            "_view_name": "ProgressView",
            "bar_style": "success",
            "description": "",
            "description_tooltip": null,
            "layout": "IPY_MODEL_3916e20aebab4ea6adf978320d3c5357",
            "max": 300,
            "min": 0,
            "orientation": "horizontal",
            "style": "IPY_MODEL_6dc1e90b9ab6403db2d7d9aa588502b8",
            "value": 300
          }
        },
        "3846286d95f74710bb7b89989a43d3d8": {
          "model_module": "@jupyter-widgets/controls",
          "model_name": "HTMLModel",
          "model_module_version": "1.5.0",
          "state": {
            "_dom_classes": [],
            "_model_module": "@jupyter-widgets/controls",
            "_model_module_version": "1.5.0",
            "_model_name": "HTMLModel",
            "_view_count": null,
            "_view_module": "@jupyter-widgets/controls",
            "_view_module_version": "1.5.0",
            "_view_name": "HTMLView",
            "description": "",
            "description_tooltip": null,
            "layout": "IPY_MODEL_1b86c743824a499aaf28319e77e176d7",
            "placeholder": "​",
            "style": "IPY_MODEL_8f44de9949f440e4a34d93ef0fe5c192",
            "value": " 300/300 [02:00&lt;00:00,  2.22it/s]"
          }
        },
        "3c99668c4bfa4905b989bc7dc786cc3e": {
          "model_module": "@jupyter-widgets/base",
          "model_name": "LayoutModel",
          "model_module_version": "1.2.0",
          "state": {
            "_model_module": "@jupyter-widgets/base",
            "_model_module_version": "1.2.0",
            "_model_name": "LayoutModel",
            "_view_count": null,
            "_view_module": "@jupyter-widgets/base",
            "_view_module_version": "1.2.0",
            "_view_name": "LayoutView",
            "align_content": null,
            "align_items": null,
            "align_self": null,
            "border": null,
            "bottom": null,
            "display": null,
            "flex": null,
            "flex_flow": null,
            "grid_area": null,
            "grid_auto_columns": null,
            "grid_auto_flow": null,
            "grid_auto_rows": null,
            "grid_column": null,
            "grid_gap": null,
            "grid_row": null,
            "grid_template_areas": null,
            "grid_template_columns": null,
            "grid_template_rows": null,
            "height": null,
            "justify_content": null,
            "justify_items": null,
            "left": null,
            "margin": null,
            "max_height": null,
            "max_width": null,
            "min_height": null,
            "min_width": null,
            "object_fit": null,
            "object_position": null,
            "order": null,
            "overflow": null,
            "overflow_x": null,
            "overflow_y": null,
            "padding": null,
            "right": null,
            "top": null,
            "visibility": null,
            "width": null
          }
        },
        "c7310c970a104036b7f2ac0988fcda6e": {
          "model_module": "@jupyter-widgets/base",
          "model_name": "LayoutModel",
          "model_module_version": "1.2.0",
          "state": {
            "_model_module": "@jupyter-widgets/base",
            "_model_module_version": "1.2.0",
            "_model_name": "LayoutModel",
            "_view_count": null,
            "_view_module": "@jupyter-widgets/base",
            "_view_module_version": "1.2.0",
            "_view_name": "LayoutView",
            "align_content": null,
            "align_items": null,
            "align_self": null,
            "border": null,
            "bottom": null,
            "display": null,
            "flex": null,
            "flex_flow": null,
            "grid_area": null,
            "grid_auto_columns": null,
            "grid_auto_flow": null,
            "grid_auto_rows": null,
            "grid_column": null,
            "grid_gap": null,
            "grid_row": null,
            "grid_template_areas": null,
            "grid_template_columns": null,
            "grid_template_rows": null,
            "height": null,
            "justify_content": null,
            "justify_items": null,
            "left": null,
            "margin": null,
            "max_height": null,
            "max_width": null,
            "min_height": null,
            "min_width": null,
            "object_fit": null,
            "object_position": null,
            "order": null,
            "overflow": null,
            "overflow_x": null,
            "overflow_y": null,
            "padding": null,
            "right": null,
            "top": null,
            "visibility": null,
            "width": null
          }
        },
        "e21bf94f72954818825dd3fb8e819c42": {
          "model_module": "@jupyter-widgets/controls",
          "model_name": "DescriptionStyleModel",
          "model_module_version": "1.5.0",
          "state": {
            "_model_module": "@jupyter-widgets/controls",
            "_model_module_version": "1.5.0",
            "_model_name": "DescriptionStyleModel",
            "_view_count": null,
            "_view_module": "@jupyter-widgets/base",
            "_view_module_version": "1.2.0",
            "_view_name": "StyleView",
            "description_width": ""
          }
        },
        "3916e20aebab4ea6adf978320d3c5357": {
          "model_module": "@jupyter-widgets/base",
          "model_name": "LayoutModel",
          "model_module_version": "1.2.0",
          "state": {
            "_model_module": "@jupyter-widgets/base",
            "_model_module_version": "1.2.0",
            "_model_name": "LayoutModel",
            "_view_count": null,
            "_view_module": "@jupyter-widgets/base",
            "_view_module_version": "1.2.0",
            "_view_name": "LayoutView",
            "align_content": null,
            "align_items": null,
            "align_self": null,
            "border": null,
            "bottom": null,
            "display": null,
            "flex": null,
            "flex_flow": null,
            "grid_area": null,
            "grid_auto_columns": null,
            "grid_auto_flow": null,
            "grid_auto_rows": null,
            "grid_column": null,
            "grid_gap": null,
            "grid_row": null,
            "grid_template_areas": null,
            "grid_template_columns": null,
            "grid_template_rows": null,
            "height": null,
            "justify_content": null,
            "justify_items": null,
            "left": null,
            "margin": null,
            "max_height": null,
            "max_width": null,
            "min_height": null,
            "min_width": null,
            "object_fit": null,
            "object_position": null,
            "order": null,
            "overflow": null,
            "overflow_x": null,
            "overflow_y": null,
            "padding": null,
            "right": null,
            "top": null,
            "visibility": null,
            "width": null
          }
        },
        "6dc1e90b9ab6403db2d7d9aa588502b8": {
          "model_module": "@jupyter-widgets/controls",
          "model_name": "ProgressStyleModel",
          "model_module_version": "1.5.0",
          "state": {
            "_model_module": "@jupyter-widgets/controls",
            "_model_module_version": "1.5.0",
            "_model_name": "ProgressStyleModel",
            "_view_count": null,
            "_view_module": "@jupyter-widgets/base",
            "_view_module_version": "1.2.0",
            "_view_name": "StyleView",
            "bar_color": null,
            "description_width": ""
          }
        },
        "1b86c743824a499aaf28319e77e176d7": {
          "model_module": "@jupyter-widgets/base",
          "model_name": "LayoutModel",
          "model_module_version": "1.2.0",
          "state": {
            "_model_module": "@jupyter-widgets/base",
            "_model_module_version": "1.2.0",
            "_model_name": "LayoutModel",
            "_view_count": null,
            "_view_module": "@jupyter-widgets/base",
            "_view_module_version": "1.2.0",
            "_view_name": "LayoutView",
            "align_content": null,
            "align_items": null,
            "align_self": null,
            "border": null,
            "bottom": null,
            "display": null,
            "flex": null,
            "flex_flow": null,
            "grid_area": null,
            "grid_auto_columns": null,
            "grid_auto_flow": null,
            "grid_auto_rows": null,
            "grid_column": null,
            "grid_gap": null,
            "grid_row": null,
            "grid_template_areas": null,
            "grid_template_columns": null,
            "grid_template_rows": null,
            "height": null,
            "justify_content": null,
            "justify_items": null,
            "left": null,
            "margin": null,
            "max_height": null,
            "max_width": null,
            "min_height": null,
            "min_width": null,
            "object_fit": null,
            "object_position": null,
            "order": null,
            "overflow": null,
            "overflow_x": null,
            "overflow_y": null,
            "padding": null,
            "right": null,
            "top": null,
            "visibility": null,
            "width": null
          }
        },
        "8f44de9949f440e4a34d93ef0fe5c192": {
          "model_module": "@jupyter-widgets/controls",
          "model_name": "DescriptionStyleModel",
          "model_module_version": "1.5.0",
          "state": {
            "_model_module": "@jupyter-widgets/controls",
            "_model_module_version": "1.5.0",
            "_model_name": "DescriptionStyleModel",
            "_view_count": null,
            "_view_module": "@jupyter-widgets/base",
            "_view_module_version": "1.2.0",
            "_view_name": "StyleView",
            "description_width": ""
          }
        },
        "81923d1e39484234ab5343e39f4297b9": {
          "model_module": "@jupyter-widgets/controls",
          "model_name": "HBoxModel",
          "model_module_version": "1.5.0",
          "state": {
            "_dom_classes": [],
            "_model_module": "@jupyter-widgets/controls",
            "_model_module_version": "1.5.0",
            "_model_name": "HBoxModel",
            "_view_count": null,
            "_view_module": "@jupyter-widgets/controls",
            "_view_module_version": "1.5.0",
            "_view_name": "HBoxView",
            "box_style": "",
            "children": [
              "IPY_MODEL_21aab5e3a2b64e76b803df40f3b181bc",
              "IPY_MODEL_0b431a2e169b4d598598ab6e6dc68c6e",
              "IPY_MODEL_7260c202e6b34b9aafd7bd1907970b07"
            ],
            "layout": "IPY_MODEL_48132e43bbcf48bd90352b9e0cc580c9"
          }
        },
        "21aab5e3a2b64e76b803df40f3b181bc": {
          "model_module": "@jupyter-widgets/controls",
          "model_name": "HTMLModel",
          "model_module_version": "1.5.0",
          "state": {
            "_dom_classes": [],
            "_model_module": "@jupyter-widgets/controls",
            "_model_module_version": "1.5.0",
            "_model_name": "HTMLModel",
            "_view_count": null,
            "_view_module": "@jupyter-widgets/controls",
            "_view_module_version": "1.5.0",
            "_view_name": "HTMLView",
            "description": "",
            "description_tooltip": null,
            "layout": "IPY_MODEL_d6a0033b1fd848d799c8bf46d0827adc",
            "placeholder": "​",
            "style": "IPY_MODEL_fe1ebae35e7b41c19f0553ed4faaff5c",
            "value": "100%"
          }
        },
        "0b431a2e169b4d598598ab6e6dc68c6e": {
          "model_module": "@jupyter-widgets/controls",
          "model_name": "FloatProgressModel",
          "model_module_version": "1.5.0",
          "state": {
            "_dom_classes": [],
            "_model_module": "@jupyter-widgets/controls",
            "_model_module_version": "1.5.0",
            "_model_name": "FloatProgressModel",
            "_view_count": null,
            "_view_module": "@jupyter-widgets/controls",
            "_view_module_version": "1.5.0",
            "_view_name": "ProgressView",
            "bar_style": "success",
            "description": "",
            "description_tooltip": null,
            "layout": "IPY_MODEL_630ae3813d054adabb0a7e86cbc5d94d",
            "max": 7967,
            "min": 0,
            "orientation": "horizontal",
            "style": "IPY_MODEL_5a058ae059be40f981afc224a7f54b18",
            "value": 7967
          }
        },
        "7260c202e6b34b9aafd7bd1907970b07": {
          "model_module": "@jupyter-widgets/controls",
          "model_name": "HTMLModel",
          "model_module_version": "1.5.0",
          "state": {
            "_dom_classes": [],
            "_model_module": "@jupyter-widgets/controls",
            "_model_module_version": "1.5.0",
            "_model_name": "HTMLModel",
            "_view_count": null,
            "_view_module": "@jupyter-widgets/controls",
            "_view_module_version": "1.5.0",
            "_view_name": "HTMLView",
            "description": "",
            "description_tooltip": null,
            "layout": "IPY_MODEL_866a92554df24a87878424672642da7b",
            "placeholder": "​",
            "style": "IPY_MODEL_878a33e40f224731a78da7bf8e82545e",
            "value": " 7967/7967 [24:39&lt;00:00,  4.44it/s]"
          }
        },
        "48132e43bbcf48bd90352b9e0cc580c9": {
          "model_module": "@jupyter-widgets/base",
          "model_name": "LayoutModel",
          "model_module_version": "1.2.0",
          "state": {
            "_model_module": "@jupyter-widgets/base",
            "_model_module_version": "1.2.0",
            "_model_name": "LayoutModel",
            "_view_count": null,
            "_view_module": "@jupyter-widgets/base",
            "_view_module_version": "1.2.0",
            "_view_name": "LayoutView",
            "align_content": null,
            "align_items": null,
            "align_self": null,
            "border": null,
            "bottom": null,
            "display": null,
            "flex": null,
            "flex_flow": null,
            "grid_area": null,
            "grid_auto_columns": null,
            "grid_auto_flow": null,
            "grid_auto_rows": null,
            "grid_column": null,
            "grid_gap": null,
            "grid_row": null,
            "grid_template_areas": null,
            "grid_template_columns": null,
            "grid_template_rows": null,
            "height": null,
            "justify_content": null,
            "justify_items": null,
            "left": null,
            "margin": null,
            "max_height": null,
            "max_width": null,
            "min_height": null,
            "min_width": null,
            "object_fit": null,
            "object_position": null,
            "order": null,
            "overflow": null,
            "overflow_x": null,
            "overflow_y": null,
            "padding": null,
            "right": null,
            "top": null,
            "visibility": null,
            "width": null
          }
        },
        "d6a0033b1fd848d799c8bf46d0827adc": {
          "model_module": "@jupyter-widgets/base",
          "model_name": "LayoutModel",
          "model_module_version": "1.2.0",
          "state": {
            "_model_module": "@jupyter-widgets/base",
            "_model_module_version": "1.2.0",
            "_model_name": "LayoutModel",
            "_view_count": null,
            "_view_module": "@jupyter-widgets/base",
            "_view_module_version": "1.2.0",
            "_view_name": "LayoutView",
            "align_content": null,
            "align_items": null,
            "align_self": null,
            "border": null,
            "bottom": null,
            "display": null,
            "flex": null,
            "flex_flow": null,
            "grid_area": null,
            "grid_auto_columns": null,
            "grid_auto_flow": null,
            "grid_auto_rows": null,
            "grid_column": null,
            "grid_gap": null,
            "grid_row": null,
            "grid_template_areas": null,
            "grid_template_columns": null,
            "grid_template_rows": null,
            "height": null,
            "justify_content": null,
            "justify_items": null,
            "left": null,
            "margin": null,
            "max_height": null,
            "max_width": null,
            "min_height": null,
            "min_width": null,
            "object_fit": null,
            "object_position": null,
            "order": null,
            "overflow": null,
            "overflow_x": null,
            "overflow_y": null,
            "padding": null,
            "right": null,
            "top": null,
            "visibility": null,
            "width": null
          }
        },
        "fe1ebae35e7b41c19f0553ed4faaff5c": {
          "model_module": "@jupyter-widgets/controls",
          "model_name": "DescriptionStyleModel",
          "model_module_version": "1.5.0",
          "state": {
            "_model_module": "@jupyter-widgets/controls",
            "_model_module_version": "1.5.0",
            "_model_name": "DescriptionStyleModel",
            "_view_count": null,
            "_view_module": "@jupyter-widgets/base",
            "_view_module_version": "1.2.0",
            "_view_name": "StyleView",
            "description_width": ""
          }
        },
        "630ae3813d054adabb0a7e86cbc5d94d": {
          "model_module": "@jupyter-widgets/base",
          "model_name": "LayoutModel",
          "model_module_version": "1.2.0",
          "state": {
            "_model_module": "@jupyter-widgets/base",
            "_model_module_version": "1.2.0",
            "_model_name": "LayoutModel",
            "_view_count": null,
            "_view_module": "@jupyter-widgets/base",
            "_view_module_version": "1.2.0",
            "_view_name": "LayoutView",
            "align_content": null,
            "align_items": null,
            "align_self": null,
            "border": null,
            "bottom": null,
            "display": null,
            "flex": null,
            "flex_flow": null,
            "grid_area": null,
            "grid_auto_columns": null,
            "grid_auto_flow": null,
            "grid_auto_rows": null,
            "grid_column": null,
            "grid_gap": null,
            "grid_row": null,
            "grid_template_areas": null,
            "grid_template_columns": null,
            "grid_template_rows": null,
            "height": null,
            "justify_content": null,
            "justify_items": null,
            "left": null,
            "margin": null,
            "max_height": null,
            "max_width": null,
            "min_height": null,
            "min_width": null,
            "object_fit": null,
            "object_position": null,
            "order": null,
            "overflow": null,
            "overflow_x": null,
            "overflow_y": null,
            "padding": null,
            "right": null,
            "top": null,
            "visibility": null,
            "width": null
          }
        },
        "5a058ae059be40f981afc224a7f54b18": {
          "model_module": "@jupyter-widgets/controls",
          "model_name": "ProgressStyleModel",
          "model_module_version": "1.5.0",
          "state": {
            "_model_module": "@jupyter-widgets/controls",
            "_model_module_version": "1.5.0",
            "_model_name": "ProgressStyleModel",
            "_view_count": null,
            "_view_module": "@jupyter-widgets/base",
            "_view_module_version": "1.2.0",
            "_view_name": "StyleView",
            "bar_color": null,
            "description_width": ""
          }
        },
        "866a92554df24a87878424672642da7b": {
          "model_module": "@jupyter-widgets/base",
          "model_name": "LayoutModel",
          "model_module_version": "1.2.0",
          "state": {
            "_model_module": "@jupyter-widgets/base",
            "_model_module_version": "1.2.0",
            "_model_name": "LayoutModel",
            "_view_count": null,
            "_view_module": "@jupyter-widgets/base",
            "_view_module_version": "1.2.0",
            "_view_name": "LayoutView",
            "align_content": null,
            "align_items": null,
            "align_self": null,
            "border": null,
            "bottom": null,
            "display": null,
            "flex": null,
            "flex_flow": null,
            "grid_area": null,
            "grid_auto_columns": null,
            "grid_auto_flow": null,
            "grid_auto_rows": null,
            "grid_column": null,
            "grid_gap": null,
            "grid_row": null,
            "grid_template_areas": null,
            "grid_template_columns": null,
            "grid_template_rows": null,
            "height": null,
            "justify_content": null,
            "justify_items": null,
            "left": null,
            "margin": null,
            "max_height": null,
            "max_width": null,
            "min_height": null,
            "min_width": null,
            "object_fit": null,
            "object_position": null,
            "order": null,
            "overflow": null,
            "overflow_x": null,
            "overflow_y": null,
            "padding": null,
            "right": null,
            "top": null,
            "visibility": null,
            "width": null
          }
        },
        "878a33e40f224731a78da7bf8e82545e": {
          "model_module": "@jupyter-widgets/controls",
          "model_name": "DescriptionStyleModel",
          "model_module_version": "1.5.0",
          "state": {
            "_model_module": "@jupyter-widgets/controls",
            "_model_module_version": "1.5.0",
            "_model_name": "DescriptionStyleModel",
            "_view_count": null,
            "_view_module": "@jupyter-widgets/base",
            "_view_module_version": "1.2.0",
            "_view_name": "StyleView",
            "description_width": ""
          }
        }
      }
    }
  },
  "nbformat": 4,
  "nbformat_minor": 0
}