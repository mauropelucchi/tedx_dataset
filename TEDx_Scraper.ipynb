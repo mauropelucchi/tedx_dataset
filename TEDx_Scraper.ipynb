{
  "cells": [
    {
      "cell_type": "markdown",
      "metadata": {
        "id": "Gn93w7TRJchr"
      },
      "source": [
        "# TEDx Scraper\n",
        "\n",
        "\n",
        "This scraper downloads more than 4k talks from www.ted.com\n",
        "in order to create a dataset for research purporse.\n",
        "\n",
        "The main dataset is composed by the following attributes:\n",
        "- unique id\n",
        "- details\n",
        "- posted\n",
        "- main_speaker\n",
        "- event\n",
        "- title\n",
        "- num_views\n",
        "- url\n",
        "\n",
        "The tags dataset is composed by the following attributes (linked 1-n with the main dataset):\n",
        "- unique id\n",
        "- tag\n",
        "\n",
        "The \"watch next\" dataset is composed by the following attributes:\n",
        "- id\n",
        "- watch_next_id\n",
        "\n",
        "\n",
        "The  is organized with the following sections:\n",
        "\n",
        "- Setup of the env (install libraries, set up variables and credentials, ...)\n",
        "- Download of the index (with Selenium and Chrome Browser libraries + API)\n",
        "- Store the data on CSV files"
      ]
    },
    {
      "cell_type": "markdown",
      "metadata": {
        "id": "NJIuRg0-Jchs"
      },
      "source": [
        "### Setup of the env\n",
        "\n",
        "Install and import of python libraries"
      ]
    },
    {
      "cell_type": "code",
      "execution_count": 1,
      "metadata": {
        "colab": {
          "base_uri": "https://localhost:8080/"
        },
        "id": "nSWbVJ6KJhjz",
        "outputId": "02f1ed0d-abfa-4899-99d9-73596cb9a168"
      },
      "outputs": [
        {
          "output_type": "stream",
          "name": "stdout",
          "text": [
            "Hit:1 http://archive.ubuntu.com/ubuntu jammy InRelease\n",
            "Get:2 http://archive.ubuntu.com/ubuntu jammy-updates InRelease [119 kB]\n",
            "Get:3 http://security.ubuntu.com/ubuntu jammy-security InRelease [110 kB]\n",
            "Get:4 https://cloud.r-project.org/bin/linux/ubuntu jammy-cran40/ InRelease [3,626 B]\n",
            "Get:5 https://developer.download.nvidia.com/compute/cuda/repos/ubuntu2204/x86_64  InRelease [1,581 B]\n",
            "Hit:6 http://archive.ubuntu.com/ubuntu jammy-backports InRelease\n",
            "Hit:7 https://ppa.launchpadcontent.net/c2d4u.team/c2d4u4.0+/ubuntu jammy InRelease\n",
            "Hit:8 https://ppa.launchpadcontent.net/deadsnakes/ppa/ubuntu jammy InRelease\n",
            "Get:9 https://developer.download.nvidia.com/compute/cuda/repos/ubuntu2204/x86_64  Packages [825 kB]\n",
            "Hit:10 https://ppa.launchpadcontent.net/graphics-drivers/ppa/ubuntu jammy InRelease\n",
            "Hit:11 https://ppa.launchpadcontent.net/ubuntugis/ppa/ubuntu jammy InRelease\n",
            "Get:12 http://security.ubuntu.com/ubuntu jammy-security/main amd64 Packages [1,756 kB]\n",
            "Get:13 http://archive.ubuntu.com/ubuntu jammy-updates/main amd64 Packages [2,036 kB]\n",
            "Fetched 4,851 kB in 3s (1,595 kB/s)\n",
            "Reading package lists... Done\n",
            "Building dependency tree... Done\n",
            "Reading state information... Done\n",
            "45 packages can be upgraded. Run 'apt list --upgradable' to see them.\n",
            "Reading package lists... Done\n",
            "Building dependency tree... Done\n",
            "Reading state information... Done\n",
            "wget is already the newest version (1.21.2-2ubuntu1).\n",
            "curl is already the newest version (7.81.0-1ubuntu1.16).\n",
            "unzip is already the newest version (6.0-26ubuntu3.2).\n",
            "0 upgraded, 0 newly installed, 0 to remove and 45 not upgraded.\n",
            "--2024-05-01 07:28:37--  http://archive.ubuntu.com/ubuntu/pool/main/libu/libu2f-host/libu2f-udev_1.1.4-1_all.deb\n",
            "Resolving archive.ubuntu.com (archive.ubuntu.com)... 91.189.91.82, 91.189.91.81, 185.125.190.36, ...\n",
            "Connecting to archive.ubuntu.com (archive.ubuntu.com)|91.189.91.82|:80... connected.\n",
            "HTTP request sent, awaiting response... 200 OK\n",
            "Length: 3708 (3.6K) [application/vnd.debian.binary-package]\n",
            "Saving to: ‘libu2f-udev_1.1.4-1_all.deb’\n",
            "\n",
            "libu2f-udev_1.1.4-1 100%[===================>]   3.62K  --.-KB/s    in 0s      \n",
            "\n",
            "2024-05-01 07:28:37 (298 MB/s) - ‘libu2f-udev_1.1.4-1_all.deb’ saved [3708/3708]\n",
            "\n",
            "Selecting previously unselected package libu2f-udev.\n",
            "(Reading database ... 121920 files and directories currently installed.)\n",
            "Preparing to unpack libu2f-udev_1.1.4-1_all.deb ...\n",
            "Unpacking libu2f-udev (1.1.4-1) ...\n",
            "Setting up libu2f-udev (1.1.4-1) ...\n",
            "--2024-05-01 07:28:39--  https://dl.google.com/linux/direct/google-chrome-stable_current_amd64.deb\n",
            "Resolving dl.google.com (dl.google.com)... 142.250.136.190, 142.250.136.91, 142.250.136.136, ...\n",
            "Connecting to dl.google.com (dl.google.com)|142.250.136.190|:443... connected.\n",
            "HTTP request sent, awaiting response... 200 OK\n",
            "Length: 107002536 (102M) [application/x-debian-package]\n",
            "Saving to: ‘google-chrome-stable_current_amd64.deb’\n",
            "\n",
            "google-chrome-stabl 100%[===================>] 102.04M  85.4MB/s    in 1.2s    \n",
            "\n",
            "2024-05-01 07:28:40 (85.4 MB/s) - ‘google-chrome-stable_current_amd64.deb’ saved [107002536/107002536]\n",
            "\n",
            "Selecting previously unselected package google-chrome-stable.\n",
            "(Reading database ... 121924 files and directories currently installed.)\n",
            "Preparing to unpack google-chrome-stable_current_amd64.deb ...\n",
            "Unpacking google-chrome-stable (124.0.6367.118-1) ...\n",
            "\u001b[1mdpkg:\u001b[0m dependency problems prevent configuration of google-chrome-stable:\n",
            " google-chrome-stable depends on libvulkan1; however:\n",
            "  Package libvulkan1 is not installed.\n",
            "\n",
            "\u001b[1mdpkg:\u001b[0m error processing package google-chrome-stable (--install):\n",
            " dependency problems - leaving unconfigured\n",
            "Processing triggers for man-db (2.10.2-1) ...\n",
            "Errors were encountered while processing:\n",
            " google-chrome-stable\n",
            "Reading package lists... Done\n",
            "Building dependency tree... Done\n",
            "Reading state information... Done\n",
            "Correcting dependencies... Done\n",
            "The following additional packages will be installed:\n",
            "  libvulkan1 mesa-vulkan-drivers\n",
            "The following NEW packages will be installed:\n",
            "  libvulkan1 mesa-vulkan-drivers\n",
            "0 upgraded, 2 newly installed, 0 to remove and 46 not upgraded.\n",
            "1 not fully installed or removed.\n",
            "Need to get 10.9 MB of archives.\n",
            "After this operation, 51.3 MB of additional disk space will be used.\n",
            "Get:1 http://archive.ubuntu.com/ubuntu jammy/main amd64 libvulkan1 amd64 1.3.204.1-2 [128 kB]\n",
            "Get:2 http://archive.ubuntu.com/ubuntu jammy-updates/main amd64 mesa-vulkan-drivers amd64 23.2.1-1ubuntu3.1~22.04.2 [10.7 MB]\n",
            "Fetched 10.9 MB in 1s (18.2 MB/s)\n",
            "debconf: unable to initialize frontend: Dialog\n",
            "debconf: (No usable dialog-like program is installed, so the dialog based frontend cannot be used. at /usr/share/perl5/Debconf/FrontEnd/Dialog.pm line 78, <> line 2.)\n",
            "debconf: falling back to frontend: Readline\n",
            "debconf: unable to initialize frontend: Readline\n",
            "debconf: (This frontend requires a controlling tty.)\n",
            "debconf: falling back to frontend: Teletype\n",
            "dpkg-preconfigure: unable to re-open stdin: \n",
            "Selecting previously unselected package libvulkan1:amd64.\n",
            "(Reading database ... 122038 files and directories currently installed.)\n",
            "Preparing to unpack .../libvulkan1_1.3.204.1-2_amd64.deb ...\n",
            "Unpacking libvulkan1:amd64 (1.3.204.1-2) ...\n",
            "Selecting previously unselected package mesa-vulkan-drivers:amd64.\n",
            "Preparing to unpack .../mesa-vulkan-drivers_23.2.1-1ubuntu3.1~22.04.2_amd64.deb ...\n",
            "Unpacking mesa-vulkan-drivers:amd64 (23.2.1-1ubuntu3.1~22.04.2) ...\n",
            "Setting up libvulkan1:amd64 (1.3.204.1-2) ...\n",
            "Setting up mesa-vulkan-drivers:amd64 (23.2.1-1ubuntu3.1~22.04.2) ...\n",
            "Setting up google-chrome-stable (124.0.6367.118-1) ...\n",
            "update-alternatives: using /usr/bin/google-chrome-stable to provide /usr/bin/x-www-browser (x-www-browser) in auto mode\n",
            "update-alternatives: using /usr/bin/google-chrome-stable to provide /usr/bin/gnome-www-browser (gnome-www-browser) in auto mode\n",
            "update-alternatives: using /usr/bin/google-chrome-stable to provide /usr/bin/google-chrome (google-chrome) in auto mode\n",
            "Processing triggers for libc-bin (2.35-0ubuntu3.4) ...\n",
            "/sbin/ldconfig.real: /usr/local/lib/libtbbbind_2_5.so.3 is not a symbolic link\n",
            "\n",
            "/sbin/ldconfig.real: /usr/local/lib/libtbbbind.so.3 is not a symbolic link\n",
            "\n",
            "/sbin/ldconfig.real: /usr/local/lib/libtbbbind_2_0.so.3 is not a symbolic link\n",
            "\n",
            "/sbin/ldconfig.real: /usr/local/lib/libtbbmalloc.so.2 is not a symbolic link\n",
            "\n",
            "/sbin/ldconfig.real: /usr/local/lib/libtbbmalloc_proxy.so.2 is not a symbolic link\n",
            "\n",
            "/sbin/ldconfig.real: /usr/local/lib/libtbb.so.12 is not a symbolic link\n",
            "\n"
          ]
        },
        {
          "output_type": "execute_result",
          "data": {
            "text/plain": []
          },
          "metadata": {},
          "execution_count": 1
        }
      ],
      "source": [
        "%%shell\n",
        "sudo apt -y update\n",
        "sudo apt install -y wget curl unzip\n",
        "wget http://archive.ubuntu.com/ubuntu/pool/main/libu/libu2f-host/libu2f-udev_1.1.4-1_all.deb\n",
        "dpkg -i libu2f-udev_1.1.4-1_all.deb\n",
        "wget https://dl.google.com/linux/direct/google-chrome-stable_current_amd64.deb\n",
        "dpkg -i google-chrome-stable_current_amd64.deb\n",
        "sudo apt-get install -f"
      ]
    },
    {
      "cell_type": "code",
      "execution_count": 2,
      "metadata": {
        "colab": {
          "base_uri": "https://localhost:8080/"
        },
        "id": "B8FuNQXEJlXP",
        "outputId": "07487013-2b27-4f36-9d72-2341369d7ff3"
      },
      "outputs": [
        {
          "output_type": "stream",
          "name": "stdout",
          "text": [
            "Collecting chromedriver-py\n",
            "  Downloading chromedriver_py-124.0.6367.91-py3-none-any.whl (42.9 MB)\n",
            "\u001b[2K     \u001b[90m━━━━━━━━━━━━━━━━━━━━━━━━━━━━━━━━━━━━━━━━\u001b[0m \u001b[32m42.9/42.9 MB\u001b[0m \u001b[31m16.3 MB/s\u001b[0m eta \u001b[36m0:00:00\u001b[0m\n",
            "\u001b[?25hInstalling collected packages: chromedriver-py\n",
            "Successfully installed chromedriver-py-124.0.6367.91\n",
            "Collecting selenium\n",
            "  Downloading selenium-4.20.0-py3-none-any.whl (9.5 MB)\n",
            "\u001b[2K     \u001b[90m━━━━━━━━━━━━━━━━━━━━━━━━━━━━━━━━━━━━━━━━\u001b[0m \u001b[32m9.5/9.5 MB\u001b[0m \u001b[31m21.2 MB/s\u001b[0m eta \u001b[36m0:00:00\u001b[0m\n",
            "\u001b[?25hRequirement already satisfied: urllib3[socks]<3,>=1.26 in /usr/local/lib/python3.10/dist-packages (from selenium) (2.0.7)\n",
            "Collecting trio~=0.17 (from selenium)\n",
            "  Downloading trio-0.25.0-py3-none-any.whl (467 kB)\n",
            "\u001b[2K     \u001b[90m━━━━━━━━━━━━━━━━━━━━━━━━━━━━━━━━━━━━━━━━\u001b[0m \u001b[32m467.2/467.2 kB\u001b[0m \u001b[31m39.8 MB/s\u001b[0m eta \u001b[36m0:00:00\u001b[0m\n",
            "\u001b[?25hCollecting trio-websocket~=0.9 (from selenium)\n",
            "  Downloading trio_websocket-0.11.1-py3-none-any.whl (17 kB)\n",
            "Requirement already satisfied: certifi>=2021.10.8 in /usr/local/lib/python3.10/dist-packages (from selenium) (2024.2.2)\n",
            "Requirement already satisfied: typing_extensions>=4.9.0 in /usr/local/lib/python3.10/dist-packages (from selenium) (4.11.0)\n",
            "Requirement already satisfied: attrs>=23.2.0 in /usr/local/lib/python3.10/dist-packages (from trio~=0.17->selenium) (23.2.0)\n",
            "Requirement already satisfied: sortedcontainers in /usr/local/lib/python3.10/dist-packages (from trio~=0.17->selenium) (2.4.0)\n",
            "Requirement already satisfied: idna in /usr/local/lib/python3.10/dist-packages (from trio~=0.17->selenium) (3.7)\n",
            "Collecting outcome (from trio~=0.17->selenium)\n",
            "  Downloading outcome-1.3.0.post0-py2.py3-none-any.whl (10 kB)\n",
            "Requirement already satisfied: sniffio>=1.3.0 in /usr/local/lib/python3.10/dist-packages (from trio~=0.17->selenium) (1.3.1)\n",
            "Requirement already satisfied: exceptiongroup in /usr/local/lib/python3.10/dist-packages (from trio~=0.17->selenium) (1.2.1)\n",
            "Collecting wsproto>=0.14 (from trio-websocket~=0.9->selenium)\n",
            "  Downloading wsproto-1.2.0-py3-none-any.whl (24 kB)\n",
            "Requirement already satisfied: pysocks!=1.5.7,<2.0,>=1.5.6 in /usr/local/lib/python3.10/dist-packages (from urllib3[socks]<3,>=1.26->selenium) (1.7.1)\n",
            "Collecting h11<1,>=0.9.0 (from wsproto>=0.14->trio-websocket~=0.9->selenium)\n",
            "  Downloading h11-0.14.0-py3-none-any.whl (58 kB)\n",
            "\u001b[2K     \u001b[90m━━━━━━━━━━━━━━━━━━━━━━━━━━━━━━━━━━━━━━━━\u001b[0m \u001b[32m58.3/58.3 kB\u001b[0m \u001b[31m6.6 MB/s\u001b[0m eta \u001b[36m0:00:00\u001b[0m\n",
            "\u001b[?25hInstalling collected packages: outcome, h11, wsproto, trio, trio-websocket, selenium\n",
            "Successfully installed h11-0.14.0 outcome-1.3.0.post0 selenium-4.20.0 trio-0.25.0 trio-websocket-0.11.1 wsproto-1.2.0\n"
          ]
        }
      ],
      "source": [
        "!pip install chromedriver-py\n",
        "!pip install selenium"
      ]
    },
    {
      "cell_type": "code",
      "execution_count": 3,
      "metadata": {
        "id": "pQhLoLCDJqug"
      },
      "outputs": [],
      "source": [
        "import sys\n",
        "import logging\n",
        "from selenium.webdriver.remote.remote_connection import LOGGER\n",
        "LOGGER.setLevel(logging.WARNING)\n",
        "sys.path.insert(0,'/usr/lib/chromium-browser/chromedriver')\n",
        "from selenium import webdriver\n",
        "from selenium.webdriver.common.by import By\n",
        "from selenium.webdriver.chrome.service import Service\n",
        "from tqdm.notebook import tqdm\n",
        "import pandas as pd\n",
        "import time\n",
        "import hashlib\n",
        "import json\n",
        "import pprint\n",
        "from chromedriver_py import binary_path\n",
        "import requests\n"
      ]
    },
    {
      "cell_type": "markdown",
      "metadata": {
        "id": "qYUgzemVJcht"
      },
      "source": [
        "Set the following variables to download data:\n",
        "\n",
        "- max_page: max number of pages to loop (set to -1 to download all the pages)\n",
        "- sleep_time: to be polite with TEDx (number of seconds between different request)\n",
        "\n",
        "\n"
      ]
    },
    {
      "cell_type": "code",
      "execution_count": 116,
      "metadata": {
        "id": "kAXmNAeSJcht"
      },
      "outputs": [],
      "source": [
        "max_page = 300\n",
        "sleep_time = 1\n",
        "log = False"
      ]
    },
    {
      "cell_type": "code",
      "execution_count": 5,
      "metadata": {
        "id": "CvFW7l-xKHbC"
      },
      "outputs": [],
      "source": [
        "chrome_options = webdriver.ChromeOptions()\n",
        "chrome_options.add_argument('--headless')\n",
        "chrome_options.add_argument('--no-sandbox')\n",
        "chrome_options.add_argument('--disable-dev-shm-usage')\n",
        "chrome_options.add_argument(\"window-size=1900,800\")\n",
        "chrome_options.add_argument(\"user-agent=Mozilla/5.0 (Macintosh; Intel Mac OS X 10_15_7) AppleWebKit/537.36 (KHTML, like Gecko) Chrome/90.0.4430.212 Safari/537.36\")"
      ]
    },
    {
      "cell_type": "code",
      "execution_count": 6,
      "metadata": {
        "colab": {
          "base_uri": "https://localhost:8080/"
        },
        "id": "SRGgBRzcJcht",
        "outputId": "e6141f7f-fa94-466c-fd52-f8d985dbd78f"
      },
      "outputs": [
        {
          "output_type": "stream",
          "name": "stdout",
          "text": [
            "Navigate to https://www.ted.com/talks?sort=newest\n"
          ]
        }
      ],
      "source": [
        "def get_browser():\n",
        "    service = Service(executable_path=binary_path)\n",
        "    wd = webdriver.Chrome(service=service, options=chrome_options)\n",
        "    return wd\n",
        "\n",
        "browser = get_browser()\n",
        "\n",
        "def talks_page():\n",
        "    url = 'https://www.ted.com/talks?sort=newest'\n",
        "    print(f'Navigate to {url}')\n",
        "    browser.get(url)\n",
        "    time.sleep(sleep_time * 4)\n",
        "    try:\n",
        "      cookie_btn = browser.find_elements(By.ID, 'onetrust-accept-btn-handler')\n",
        "      cookie_btn.click()\n",
        "    except:\n",
        "      pass\n",
        "    time.sleep(sleep_time)\n",
        "\n",
        "talks_page()"
      ]
    },
    {
      "cell_type": "code",
      "execution_count": 7,
      "metadata": {
        "colab": {
          "base_uri": "https://localhost:8080/",
          "height": 343
        },
        "id": "bja8H1STKanZ",
        "outputId": "f794bdd8-cf2f-4543-bdf9-34017ea388d3"
      },
      "outputs": [
        {
          "output_type": "stream",
          "name": "stdout",
          "text": [
            "Populating the interactive namespace from numpy and matplotlib\n"
          ]
        },
        {
          "output_type": "stream",
          "name": "stderr",
          "text": [
            "/usr/local/lib/python3.10/dist-packages/IPython/core/magics/pylab.py:159: UserWarning: pylab import has clobbered these variables: ['log']\n",
            "`%matplotlib` prevents importing * from pylab and numpy\n",
            "  warn(\"pylab import has clobbered these variables: %s\"  % clobbered +\n"
          ]
        },
        {
          "output_type": "display_data",
          "data": {
            "text/plain": [
              "<Figure size 640x480 with 1 Axes>"
            ],
            "image/png": "[encoded data removed]"
          },
          "metadata": {}
        }
      ],
      "source": [
        "browser.save_screenshot('screenshot.png')\n",
        "\n",
        "%pylab inline\n",
        "import matplotlib.pyplot as plt\n",
        "import matplotlib.image as mpimg\n",
        "img=mpimg.imread('/content/screenshot.png')\n",
        "imgplot = plt.imshow(img)\n",
        "plt.show()"
      ]
    },
    {
      "cell_type": "code",
      "execution_count": 57,
      "metadata": {
        "id": "Q74AP4dDOfzw"
      },
      "outputs": [],
      "source": [
        "final = []"
      ]
    },
    {
      "cell_type": "markdown",
      "metadata": {
        "id": "nJOObHyyJchu"
      },
      "source": [
        "# Get TEDx data\n"
      ]
    },
    {
      "cell_type": "markdown",
      "metadata": {
        "id": "24bhnwkwP6Zy"
      },
      "source": [
        "First of all we will take all the data using API. We will simulate the navigation in the web site and we will download the data for all the TED Talks."
      ]
    },
    {
      "cell_type": "code",
      "execution_count": 117,
      "metadata": {
        "colab": {
          "base_uri": "https://localhost:8080/",
          "height": 49,
          "referenced_widgets": [
            "8dd54771bf1145e39cc3dee34f6009ec",
            "448a9df484a54e05ab22e2705f80150b",
            "71695b18644a4908834d6f6a9686e70a",
            "91bf50a86ec846be8199b2d37e89c3cf",
            "39f58742afbc4f93a35df434c594d00f",
            "7212ff64272b4f97a2d17d41dcc8335f",
            "02d1846c3b104db48d18ede66831410a",
            "7d05deac6dc84302a765a731321fbc94",
            "57612f86385d4d23bd7b66d614b34a87",
            "5aa00138d5fb4d42bf5b21a746b2eb04",
            "30860ff5c0b54348b675c89cbfccc669"
          ]
        },
        "id": "y_mzD9EGOd5n",
        "outputId": "65679425-4bca-450a-de2b-846db0222f96"
      },
      "outputs": [
        {
          "output_type": "display_data",
          "data": {
            "text/plain": [
              "  0%|          | 0/300 [00:00<?, ?it/s]"
            ],
            "application/vnd.jupyter.widget-view+json": {
              "version_major": 2,
              "version_minor": 0,
              "model_id": "8dd54771bf1145e39cc3dee34f6009ec"
            }
          },
          "metadata": {}
        }
      ],
      "source": [
        "for page in tqdm(range(0, max_page)):\n",
        "    payload = [\n",
        "        {\"indexName\":\"newest\",\n",
        "         \"params\":{\"attributeForDistinct\": \"objectID\",\n",
        "                   \"distinct\": 1,\n",
        "                   \"facets\": [\"subtitle_languages\",\"tags\"],\n",
        "                   \"highlightPostTag\": \"__/ais-highlight__\",\n",
        "                   \"highlightPreTag\": \"__ais-highlight__\",\n",
        "                   \"hitsPerPage\": 24,\n",
        "                   \"maxValuesPerFacet\": 500,\n",
        "                   \"page\": page,\"query\": \"\",\n",
        "                   \"tagFilters\": \"\"\n",
        "                  }\n",
        "        }\n",
        "    ]\n",
        "    r = requests.post('https://zenith-prod-alt.ted.com/api/search',\n",
        "                      headers={'Content-type': 'application/json; charset=UTF-8',\n",
        "                               \"User-Agent\": \"curl/7.64.1\"},\n",
        "                    json=payload)\n",
        "    my_tedx = r.json()['results'][0][\"hits\"]\n",
        "    final.extend(my_tedx)"
      ]
    },
    {
      "cell_type": "code",
      "execution_count": 118,
      "metadata": {
        "id": "e8Vd9EB7QA9x",
        "colab": {
          "base_uri": "https://localhost:8080/"
        },
        "outputId": "045dec90-a179-4fb2-ff83-38ddc35eb862"
      },
      "outputs": [
        {
          "output_type": "execute_result",
          "data": {
            "text/plain": [
              "{'objectID': '526880',\n",
              " '_index': 'coyote_models_acme_videos_index_1705009781900',\n",
              " 'duration': '254.797',\n",
              " 'speakers': 'George Zaidan',\n",
              " 'title': 'How do gas masks actually work?',\n",
              " 'photos': [{'updated_at': '2024-04-09T18:31:28.000Z',\n",
              "   'description': 'Set 1',\n",
              "   'created_at': '2024-04-09T18:31:28.000Z',\n",
              "   'id': 146107,\n",
              "   'photo_sizes': [{'talkstar_photo_id': 146107,\n",
              "     'updated_at': '2024-04-26T19:10:06.000Z',\n",
              "     'width': 1920,\n",
              "     'created_at': '2024-04-26T19:10:06.000Z',\n",
              "     'id': 257925,\n",
              "     'talkstar_aspect_ratio_id': 2,\n",
              "     'url': 'https://talkstar-assets.s3.amazonaws.com/production/talks/talk_128547/250158f0-4687-41d3-abbe-df39232ee19a/gasmaskstextless.jpg',\n",
              "     'height': 1080}]}],\n",
              " 'slug': 'george_zaidan_how_do_gas_masks_actually_work'}"
            ]
          },
          "metadata": {},
          "execution_count": 118
        }
      ],
      "source": [
        "final[0]"
      ]
    },
    {
      "cell_type": "markdown",
      "metadata": {
        "id": "BvixPK9cQBUa"
      },
      "source": [
        "We have more than 6k talks:"
      ]
    },
    {
      "cell_type": "code",
      "execution_count": 124,
      "metadata": {
        "colab": {
          "base_uri": "https://localhost:8080/"
        },
        "id": "iFhqeUEiP-Gs",
        "outputId": "c727dd67-2ca5-4ee2-d965-334781f6db42"
      },
      "outputs": [
        {
          "output_type": "execute_result",
          "data": {
            "text/plain": [
              "6412"
            ]
          },
          "metadata": {},
          "execution_count": 124
        }
      ],
      "source": [
        "len(final)"
      ]
    },
    {
      "cell_type": "markdown",
      "metadata": {
        "id": "HBQUi08vQEXN"
      },
      "source": [
        "with this structure:"
      ]
    },
    {
      "cell_type": "markdown",
      "metadata": {
        "id": "wcwONo96QMPp"
      },
      "source": [
        "Now we will parse the result:"
      ]
    },
    {
      "cell_type": "code",
      "execution_count": 125,
      "metadata": {
        "id": "rYo5hKWGQHt3"
      },
      "outputs": [],
      "source": [
        "final_list = []\n",
        "for talk in final:\n",
        "  slug = talk[\"slug\"]\n",
        "  final_list.append({\n",
        "      'id': talk[\"objectID\"],\n",
        "      'slug': talk[\"slug\"],\n",
        "      'speakers': talk[\"speakers\"],\n",
        "      'title': talk[\"title\"],\n",
        "      \"url\": f'https://www.ted.com/talks/{slug}'\n",
        "  })"
      ]
    },
    {
      "cell_type": "code",
      "execution_count": 126,
      "metadata": {
        "colab": {
          "base_uri": "https://localhost:8080/"
        },
        "id": "ubEKuLflRfOt",
        "outputId": "e4fac07e-b298-4ecd-ca6c-8238b18e2b30"
      },
      "outputs": [
        {
          "output_type": "execute_result",
          "data": {
            "text/plain": [
              "{'id': '526880',\n",
              " 'slug': 'george_zaidan_how_do_gas_masks_actually_work',\n",
              " 'speakers': 'George Zaidan',\n",
              " 'title': 'How do gas masks actually work?',\n",
              " 'url': 'https://www.ted.com/talks/george_zaidan_how_do_gas_masks_actually_work'}"
            ]
          },
          "metadata": {},
          "execution_count": 126
        }
      ],
      "source": [
        "final_list[0]"
      ]
    },
    {
      "cell_type": "code",
      "execution_count": 127,
      "metadata": {
        "colab": {
          "base_uri": "https://localhost:8080/"
        },
        "id": "imihqn1fMzBp",
        "outputId": "01e97694-d59f-47b1-b51b-126ca53e3408"
      },
      "outputs": [
        {
          "output_type": "execute_result",
          "data": {
            "text/plain": [
              "6412"
            ]
          },
          "metadata": {},
          "execution_count": 127
        }
      ],
      "source": [
        "len(final_list)"
      ]
    },
    {
      "cell_type": "markdown",
      "source": [
        "# Details"
      ],
      "metadata": {
        "id": "XW4EmRcHNvgk"
      }
    },
    {
      "cell_type": "code",
      "source": [
        "details = []\n",
        "images = []\n",
        "tags = []\n",
        "related_videos = []\n",
        "ready = []"
      ],
      "metadata": {
        "id": "9129O6dSShz9"
      },
      "execution_count": 133,
      "outputs": []
    },
    {
      "cell_type": "code",
      "source": [
        "for video in tqdm(final_list):\n",
        "  slug = video[\"slug\"]\n",
        "  if slug not in ready:\n",
        "    query = f\"\"\"\n",
        "      {{video(slug:\n",
        "        \"{slug}\",\n",
        "        language: \"en\")\n",
        "        {{description\n",
        "        socialDescription\n",
        "        duration\n",
        "        id\n",
        "        presenterDisplayName\n",
        "        primaryImageSet {{url}}\n",
        "        publishedAt\n",
        "        topics {{nodes {{name}}}}\n",
        "        relatedVideos {{\n",
        "          id\n",
        "          slug\n",
        "          title\n",
        "          duration\n",
        "          viewedCount\n",
        "          presenterDisplayName}}\n",
        "        }}}}\n",
        "    \"\"\"\n",
        "    payload = [{\n",
        "          \"operationName\": None,\n",
        "          \"variables\": {},\n",
        "          \"query\": query}]\n",
        "    r = requests.post('https://www.ted.com/graphql',\n",
        "                      headers={'Content-type': 'application/json; charset=UTF-8',\n",
        "                                \"User-Agent\": \"curl/7.64.1\"},\n",
        "                    json=payload)\n",
        "    if len(r.json()[0]) > 0 and r.json()[0][\"data\"] is not None and r.json()[0][\"data\"][\"video\"] is not None:\n",
        "      details.append({\n",
        "              \"id\": video[\"id\"],\n",
        "              \"slug\": video[\"slug\"],\n",
        "              \"interalId\": r.json()[0]['data'][\"video\"][\"id\"],\n",
        "              \"description\": r.json()[0]['data'][\"video\"][\"description\"],\n",
        "              \"duration\": r.json()[0]['data'][\"video\"][\"duration\"],\n",
        "              \"socialDescription\": r.json()[0]['data'][\"video\"][\"socialDescription\"],\n",
        "              \"presenterDisplayName\": r.json()[0]['data'][\"video\"][\"presenterDisplayName\"],\n",
        "              \"publishedAt\": r.json()[0]['data'][\"video\"][\"publishedAt\"],\n",
        "              \"publishedAt\": r.json()[0]['data'][\"video\"][\"publishedAt\"]\n",
        "          }\n",
        "      )\n",
        "      if len(r.json()[0][\"data\"][\"video\"][\"primaryImageSet\"]) > 0:\n",
        "        for image in r.json()[0][\"data\"][\"video\"][\"primaryImageSet\"]:\n",
        "          images.append({\n",
        "              \"id\": video[\"id\"],\n",
        "              \"slug\": video[\"slug\"],\n",
        "              \"url\": image[\"url\"]\n",
        "          })\n",
        "      if len(r.json()[0][\"data\"][\"video\"][\"relatedVideos\"]) > 0:\n",
        "        for related in r.json()[0][\"data\"][\"video\"][\"relatedVideos\"]:\n",
        "          related_videos.append({\n",
        "              \"id\": video[\"id\"],\n",
        "              \"internalId\": r.json()[0]['data'][\"video\"][\"id\"],\n",
        "              \"related_id\": related[\"id\"],\n",
        "              \"slug\": related[\"slug\"],\n",
        "              \"title\": related[\"title\"],\n",
        "              \"duration\": related[\"duration\"],\n",
        "              \"viewedCount\": related[\"viewedCount\"],\n",
        "              \"presenterDisplayName\": related[\"presenterDisplayName\"]})\n",
        "      if len(r.json()[0][\"data\"][\"video\"][\"topics\"][\"nodes\"]) > 0:\n",
        "        for topic in r.json()[0][\"data\"][\"video\"][\"topics\"][\"nodes\"]:\n",
        "          tags.append({\n",
        "              \"id\": video[\"id\"],\n",
        "              \"slug\": video[\"slug\"],\n",
        "              \"internalId\": r.json()[0]['data'][\"video\"][\"id\"],\n",
        "              \"tag\": topic[\"name\"]})\n",
        "  ready.append(slug)\n"
      ],
      "metadata": {
        "colab": {
          "base_uri": "https://localhost:8080/",
          "height": 49,
          "referenced_widgets": [
            "82913ced71a44f21b387095c23b5e633",
            "811eddcebee7416090f372d7c520aa67",
            "1d10bc69afc04a9cb903a36464562719",
            "a3dbf2e1323849a58e672b3a161e4229",
            "29c091a239844537bff755d9d84bd14f",
            "a676e83a65bc4a75bde153dcba18aeea",
            "60a0852331fe4cf9845896ce421f05c2",
            "e0200a6f39514c60a2cc37aa7a12a022",
            "2f7c483cf4a64cfdae9127de4acc0e57",
            "e9561ca4e9b44e30a9678998968080d8",
            "4c817fffdcb347ff9f9243c3b87026ec"
          ]
        },
        "id": "GHTfvo0uNxAr",
        "outputId": "35ccae73-504b-4050-d3de-4cc47ed7259b"
      },
      "execution_count": 135,
      "outputs": [
        {
          "output_type": "display_data",
          "data": {
            "text/plain": [
              "  0%|          | 0/6412 [00:00<?, ?it/s]"
            ],
            "application/vnd.jupyter.widget-view+json": {
              "version_major": 2,
              "version_minor": 0,
              "model_id": "82913ced71a44f21b387095c23b5e633"
            }
          },
          "metadata": {}
        }
      ]
    },
    {
      "cell_type": "code",
      "source": [
        "len(details)"
      ],
      "metadata": {
        "colab": {
          "base_uri": "https://localhost:8080/"
        },
        "id": "0VX_zp4PhbRi",
        "outputId": "91c5b5a0-f8d8-495d-e162-36214cf4cc12"
      },
      "execution_count": 138,
      "outputs": [
        {
          "output_type": "execute_result",
          "data": {
            "text/plain": [
              "6363"
            ]
          },
          "metadata": {},
          "execution_count": 138
        }
      ]
    },
    {
      "cell_type": "code",
      "source": [
        "related_videos[0]"
      ],
      "metadata": {
        "colab": {
          "base_uri": "https://localhost:8080/"
        },
        "id": "9PVhD9cgNzTy",
        "outputId": "825d4abe-7aba-4779-acc0-dfbd5b775cf4"
      },
      "execution_count": 136,
      "outputs": [
        {
          "output_type": "execute_result",
          "data": {
            "text/plain": [
              "{'id': '526880',\n",
              " 'internalId': '128547',\n",
              " 'related_id': '109914',\n",
              " 'slug': 'stephanie_honchell_smith_whatever_happened_to_the_hole_in_the_ozone_layer',\n",
              " 'title': 'Whatever happened to the hole in the ozone layer?',\n",
              " 'duration': 293,\n",
              " 'viewedCount': 552783,\n",
              " 'presenterDisplayName': 'Stephanie Honchell Smith'}"
            ]
          },
          "metadata": {},
          "execution_count": 136
        }
      ]
    },
    {
      "cell_type": "code",
      "source": [
        "details[0]"
      ],
      "metadata": {
        "colab": {
          "base_uri": "https://localhost:8080/"
        },
        "id": "R_8YY4YZNzWD",
        "outputId": "50a5d19e-e720-4f8a-ff85-210b9eac165a"
      },
      "execution_count": 137,
      "outputs": [
        {
          "output_type": "execute_result",
          "data": {
            "text/plain": [
              "{'id': '526880',\n",
              " 'slug': 'george_zaidan_how_do_gas_masks_actually_work',\n",
              " 'interalId': '128547',\n",
              " 'description': 'You might think of gas masks as clunky military-looking devices. But in the near future, we may need to rely on these filters as part of our everyday lives. In addition to emerging diseases, wildfire frequency has more than tripled, and climate change has increased toxic ground level ozone. So how do these masks work, and can they protect us from airborne threats? George Zaidan investigates. [Directed by Michael Kalopaidis, Zedem Media, narrated by George Zaidan, music by Manolis Manoli].',\n",
              " 'duration': 254,\n",
              " 'socialDescription': 'You might think of gas masks as clunky military-looking devices. But in the near future, we may need to rely on these filters as part of our everyday lives. In addition to emerging diseases, wildfire frequency has more than tripled, and climate change has increased toxic ground level ozone. So how do these masks work, and can they protect us from airborne threats? George Zaidan investigates. [Directed by Michael Kalopaidis, Zedem Media, narrated by George Zaidan, music by Manolis Manoli].',\n",
              " 'presenterDisplayName': 'George Zaidan',\n",
              " 'publishedAt': '2024-04-30T15:14:51Z'}"
            ]
          },
          "metadata": {},
          "execution_count": 137
        }
      ]
    },
    {
      "cell_type": "code",
      "source": [
        "tags[0]"
      ],
      "metadata": {
        "colab": {
          "base_uri": "https://localhost:8080/"
        },
        "id": "dbDswH8uNzYf",
        "outputId": "c5ccff94-d642-443a-bde0-ccfe49c7d92a"
      },
      "execution_count": 139,
      "outputs": [
        {
          "output_type": "execute_result",
          "data": {
            "text/plain": [
              "{'id': '526880',\n",
              " 'slug': 'george_zaidan_how_do_gas_masks_actually_work',\n",
              " 'internalId': '128547',\n",
              " 'tag': 'environment'}"
            ]
          },
          "metadata": {},
          "execution_count": 139
        }
      ]
    },
    {
      "cell_type": "code",
      "execution_count": 140,
      "metadata": {
        "id": "dQIPXGnbUt9v",
        "colab": {
          "base_uri": "https://localhost:8080/"
        },
        "outputId": "28a67067-9548-4e38-fbf6-b92dc53f9f8c"
      },
      "outputs": [
        {
          "output_type": "execute_result",
          "data": {
            "text/plain": [
              "{'id': '526880',\n",
              " 'slug': 'george_zaidan_how_do_gas_masks_actually_work',\n",
              " 'url': 'https://talkstar-assets.s3.amazonaws.com/production/talks/talk_128547/250158f0-4687-41d3-abbe-df39232ee19a/gasmaskstextless.jpg'}"
            ]
          },
          "metadata": {},
          "execution_count": 140
        }
      ],
      "source": [
        "images[0]"
      ]
    },
    {
      "cell_type": "code",
      "execution_count": null,
      "metadata": {
        "id": "GrvhFV7dZxa5"
      },
      "outputs": [],
      "source": []
    },
    {
      "cell_type": "code",
      "execution_count": null,
      "metadata": {
        "id": "pSF6h41nJchu"
      },
      "outputs": [],
      "source": []
    },
    {
      "cell_type": "markdown",
      "metadata": {
        "id": "zX_GpIY5Jchu"
      },
      "source": [
        "## Store the data to CSV file\n",
        "\n"
      ]
    },
    {
      "cell_type": "code",
      "execution_count": null,
      "metadata": {
        "id": "mY8cIGHQJchu"
      },
      "outputs": [],
      "source": []
    },
    {
      "cell_type": "code",
      "execution_count": 141,
      "metadata": {
        "id": "MBMOQqgEJchu"
      },
      "outputs": [],
      "source": [
        "df = pd.DataFrame.from_dict(final_list)\n",
        "df = df.to_csv('final_list.csv', index=False)"
      ]
    },
    {
      "cell_type": "code",
      "execution_count": 142,
      "metadata": {
        "id": "wA5r3Xf5TIxa"
      },
      "outputs": [],
      "source": [
        "df = pd.DataFrame.from_dict(details)\n",
        "df = df.to_csv('details.csv', index=False)"
      ]
    },
    {
      "cell_type": "code",
      "execution_count": 143,
      "metadata": {
        "id": "vVFd-BjVJchu"
      },
      "outputs": [],
      "source": [
        "df = pd.DataFrame.from_dict(tags)\n",
        "df = df.to_csv('tags.csv', index=False)"
      ]
    },
    {
      "cell_type": "code",
      "execution_count": 144,
      "metadata": {
        "id": "rRtUYTk1Jchu"
      },
      "outputs": [],
      "source": [
        "df = pd.DataFrame.from_dict(images)\n",
        "df = df.to_csv('tags.csv', index=False)"
      ]
    },
    {
      "cell_type": "code",
      "execution_count": 145,
      "metadata": {
        "id": "o0cLqL9DJchv"
      },
      "outputs": [],
      "source": [
        "df = pd.DataFrame.from_dict(related_videos)\n",
        "df = df.to_csv('related_videos.csv', index=False)"
      ]
    },
    {
      "cell_type": "code",
      "execution_count": null,
      "metadata": {
        "id": "1jhGw7HjJchv"
      },
      "outputs": [],
      "source": []
    },
    {
      "cell_type": "code",
      "execution_count": null,
      "metadata": {
        "id": "Gj4Q-_5bJchv"
      },
      "outputs": [],
      "source": []
    },
    {
      "cell_type": "code",
      "execution_count": null,
      "metadata": {
        "id": "Js8FACKSJchv"
      },
      "outputs": [],
      "source": []
    },
    {
      "cell_type": "code",
      "execution_count": null,
      "metadata": {
        "id": "2spq-s0-Jchv"
      },
      "outputs": [],
      "source": []
    },
    {
      "cell_type": "code",
      "execution_count": null,
      "metadata": {
        "id": "UdepYuqjJchv"
      },
      "outputs": [],
      "source": []
    }
  ],
  "metadata": {
    "colab": {
      "provenance": []
    },
    "kernelspec": {
      "display_name": "Python 3.7.6 64-bit",
      "language": "python",
      "name": "python37664bit5432155c863f47538fac2a404dac50c9"
    },
    "language_info": {
      "codemirror_mode": {
        "name": "ipython",
        "version": 3
      },
      "file_extension": ".py",
      "mimetype": "text/x-python",
      "name": "python",
      "nbconvert_exporter": "python",
      "pygments_lexer": "ipython3",
      "version": "3.7.7"
    },
    "widgets": {
      "application/vnd.jupyter.widget-state+json": {
        "8dd54771bf1145e39cc3dee34f6009ec": {
          "model_module": "@jupyter-widgets/controls",
          "model_name": "HBoxModel",
          "model_module_version": "1.5.0",
          "state": {
            "_dom_classes": [],
            "_model_module": "@jupyter-widgets/controls",
            "_model_module_version": "1.5.0",
            "_model_name": "HBoxModel",
            "_view_count": null,
            "_view_module": "@jupyter-widgets/controls",
            "_view_module_version": "1.5.0",
            "_view_name": "HBoxView",
            "box_style": "",
            "children": [
              "IPY_MODEL_448a9df484a54e05ab22e2705f80150b",
              "IPY_MODEL_71695b18644a4908834d6f6a9686e70a",
              "IPY_MODEL_91bf50a86ec846be8199b2d37e89c3cf"
            ],
            "layout": "IPY_MODEL_39f58742afbc4f93a35df434c594d00f"
          }
        },
        "448a9df484a54e05ab22e2705f80150b": {
          "model_module": "@jupyter-widgets/controls",
          "model_name": "HTMLModel",
          "model_module_version": "1.5.0",
          "state": {
            "_dom_classes": [],
            "_model_module": "@jupyter-widgets/controls",
            "_model_module_version": "1.5.0",
            "_model_name": "HTMLModel",
            "_view_count": null,
            "_view_module": "@jupyter-widgets/controls",
            "_view_module_version": "1.5.0",
            "_view_name": "HTMLView",
            "description": "",
            "description_tooltip": null,
            "layout": "IPY_MODEL_7212ff64272b4f97a2d17d41dcc8335f",
            "placeholder": "​",
            "style": "IPY_MODEL_02d1846c3b104db48d18ede66831410a",
            "value": "100%"
          }
        },
        "71695b18644a4908834d6f6a9686e70a": {
          "model_module": "@jupyter-widgets/controls",
          "model_name": "FloatProgressModel",
          "model_module_version": "1.5.0",
          "state": {
            "_dom_classes": [],
            "_model_module": "@jupyter-widgets/controls",
            "_model_module_version": "1.5.0",
            "_model_name": "FloatProgressModel",
            "_view_count": null,
            "_view_module": "@jupyter-widgets/controls",
            "_view_module_version": "1.5.0",
            "_view_name": "ProgressView",
            "bar_style": "success",
            "description": "",
            "description_tooltip": null,
            "layout": "IPY_MODEL_7d05deac6dc84302a765a731321fbc94",
            "max": 300,
            "min": 0,
            "orientation": "horizontal",
            "style": "IPY_MODEL_57612f86385d4d23bd7b66d614b34a87",
            "value": 300
          }
        },
        "91bf50a86ec846be8199b2d37e89c3cf": {
          "model_module": "@jupyter-widgets/controls",
          "model_name": "HTMLModel",
          "model_module_version": "1.5.0",
          "state": {
            "_dom_classes": [],
            "_model_module": "@jupyter-widgets/controls",
            "_model_module_version": "1.5.0",
            "_model_name": "HTMLModel",
            "_view_count": null,
            "_view_module": "@jupyter-widgets/controls",
            "_view_module_version": "1.5.0",
            "_view_name": "HTMLView",
            "description": "",
            "description_tooltip": null,
            "layout": "IPY_MODEL_5aa00138d5fb4d42bf5b21a746b2eb04",
            "placeholder": "​",
            "style": "IPY_MODEL_30860ff5c0b54348b675c89cbfccc669",
            "value": " 300/300 [01:39&lt;00:00,  3.22it/s]"
          }
        },
        "39f58742afbc4f93a35df434c594d00f": {
          "model_module": "@jupyter-widgets/base",
          "model_name": "LayoutModel",
          "model_module_version": "1.2.0",
          "state": {
            "_model_module": "@jupyter-widgets/base",
            "_model_module_version": "1.2.0",
            "_model_name": "LayoutModel",
            "_view_count": null,
            "_view_module": "@jupyter-widgets/base",
            "_view_module_version": "1.2.0",
            "_view_name": "LayoutView",
            "align_content": null,
            "align_items": null,
            "align_self": null,
            "border": null,
            "bottom": null,
            "display": null,
            "flex": null,
            "flex_flow": null,
            "grid_area": null,
            "grid_auto_columns": null,
            "grid_auto_flow": null,
            "grid_auto_rows": null,
            "grid_column": null,
            "grid_gap": null,
            "grid_row": null,
            "grid_template_areas": null,
            "grid_template_columns": null,
            "grid_template_rows": null,
            "height": null,
            "justify_content": null,
            "justify_items": null,
            "left": null,
            "margin": null,
            "max_height": null,
            "max_width": null,
            "min_height": null,
            "min_width": null,
            "object_fit": null,
            "object_position": null,
            "order": null,
            "overflow": null,
            "overflow_x": null,
            "overflow_y": null,
            "padding": null,
            "right": null,
            "top": null,
            "visibility": null,
            "width": null
          }
        },
        "7212ff64272b4f97a2d17d41dcc8335f": {
          "model_module": "@jupyter-widgets/base",
          "model_name": "LayoutModel",
          "model_module_version": "1.2.0",
          "state": {
            "_model_module": "@jupyter-widgets/base",
            "_model_module_version": "1.2.0",
            "_model_name": "LayoutModel",
            "_view_count": null,
            "_view_module": "@jupyter-widgets/base",
            "_view_module_version": "1.2.0",
            "_view_name": "LayoutView",
            "align_content": null,
            "align_items": null,
            "align_self": null,
            "border": null,
            "bottom": null,
            "display": null,
            "flex": null,
            "flex_flow": null,
            "grid_area": null,
            "grid_auto_columns": null,
            "grid_auto_flow": null,
            "grid_auto_rows": null,
            "grid_column": null,
            "grid_gap": null,
            "grid_row": null,
            "grid_template_areas": null,
            "grid_template_columns": null,
            "grid_template_rows": null,
            "height": null,
            "justify_content": null,
            "justify_items": null,
            "left": null,
            "margin": null,
            "max_height": null,
            "max_width": null,
            "min_height": null,
            "min_width": null,
            "object_fit": null,
            "object_position": null,
            "order": null,
            "overflow": null,
            "overflow_x": null,
            "overflow_y": null,
            "padding": null,
            "right": null,
            "top": null,
            "visibility": null,
            "width": null
          }
        },
        "02d1846c3b104db48d18ede66831410a": {
          "model_module": "@jupyter-widgets/controls",
          "model_name": "DescriptionStyleModel",
          "model_module_version": "1.5.0",
          "state": {
            "_model_module": "@jupyter-widgets/controls",
            "_model_module_version": "1.5.0",
            "_model_name": "DescriptionStyleModel",
            "_view_count": null,
            "_view_module": "@jupyter-widgets/base",
            "_view_module_version": "1.2.0",
            "_view_name": "StyleView",
            "description_width": ""
          }
        },
        "7d05deac6dc84302a765a731321fbc94": {
          "model_module": "@jupyter-widgets/base",
          "model_name": "LayoutModel",
          "model_module_version": "1.2.0",
          "state": {
            "_model_module": "@jupyter-widgets/base",
            "_model_module_version": "1.2.0",
            "_model_name": "LayoutModel",
            "_view_count": null,
            "_view_module": "@jupyter-widgets/base",
            "_view_module_version": "1.2.0",
            "_view_name": "LayoutView",
            "align_content": null,
            "align_items": null,
            "align_self": null,
            "border": null,
            "bottom": null,
            "display": null,
            "flex": null,
            "flex_flow": null,
            "grid_area": null,
            "grid_auto_columns": null,
            "grid_auto_flow": null,
            "grid_auto_rows": null,
            "grid_column": null,
            "grid_gap": null,
            "grid_row": null,
            "grid_template_areas": null,
            "grid_template_columns": null,
            "grid_template_rows": null,
            "height": null,
            "justify_content": null,
            "justify_items": null,
            "left": null,
            "margin": null,
            "max_height": null,
            "max_width": null,
            "min_height": null,
            "min_width": null,
            "object_fit": null,
            "object_position": null,
            "order": null,
            "overflow": null,
            "overflow_x": null,
            "overflow_y": null,
            "padding": null,
            "right": null,
            "top": null,
            "visibility": null,
            "width": null
          }
        },
        "57612f86385d4d23bd7b66d614b34a87": {
          "model_module": "@jupyter-widgets/controls",
          "model_name": "ProgressStyleModel",
          "model_module_version": "1.5.0",
          "state": {
            "_model_module": "@jupyter-widgets/controls",
            "_model_module_version": "1.5.0",
            "_model_name": "ProgressStyleModel",
            "_view_count": null,
            "_view_module": "@jupyter-widgets/base",
            "_view_module_version": "1.2.0",
            "_view_name": "StyleView",
            "bar_color": null,
            "description_width": ""
          }
        },
        "5aa00138d5fb4d42bf5b21a746b2eb04": {
          "model_module": "@jupyter-widgets/base",
          "model_name": "LayoutModel",
          "model_module_version": "1.2.0",
          "state": {
            "_model_module": "@jupyter-widgets/base",
            "_model_module_version": "1.2.0",
            "_model_name": "LayoutModel",
            "_view_count": null,
            "_view_module": "@jupyter-widgets/base",
            "_view_module_version": "1.2.0",
            "_view_name": "LayoutView",
            "align_content": null,
            "align_items": null,
            "align_self": null,
            "border": null,
            "bottom": null,
            "display": null,
            "flex": null,
            "flex_flow": null,
            "grid_area": null,
            "grid_auto_columns": null,
            "grid_auto_flow": null,
            "grid_auto_rows": null,
            "grid_column": null,
            "grid_gap": null,
            "grid_row": null,
            "grid_template_areas": null,
            "grid_template_columns": null,
            "grid_template_rows": null,
            "height": null,
            "justify_content": null,
            "justify_items": null,
            "left": null,
            "margin": null,
            "max_height": null,
            "max_width": null,
            "min_height": null,
            "min_width": null,
            "object_fit": null,
            "object_position": null,
            "order": null,
            "overflow": null,
            "overflow_x": null,
            "overflow_y": null,
            "padding": null,
            "right": null,
            "top": null,
            "visibility": null,
            "width": null
          }
        },
        "30860ff5c0b54348b675c89cbfccc669": {
          "model_module": "@jupyter-widgets/controls",
          "model_name": "DescriptionStyleModel",
          "model_module_version": "1.5.0",
          "state": {
            "_model_module": "@jupyter-widgets/controls",
            "_model_module_version": "1.5.0",
            "_model_name": "DescriptionStyleModel",
            "_view_count": null,
            "_view_module": "@jupyter-widgets/base",
            "_view_module_version": "1.2.0",
            "_view_name": "StyleView",
            "description_width": ""
          }
        },
        "82913ced71a44f21b387095c23b5e633": {
          "model_module": "@jupyter-widgets/controls",
          "model_name": "HBoxModel",
          "model_module_version": "1.5.0",
          "state": {
            "_dom_classes": [],
            "_model_module": "@jupyter-widgets/controls",
            "_model_module_version": "1.5.0",
            "_model_name": "HBoxModel",
            "_view_count": null,
            "_view_module": "@jupyter-widgets/controls",
            "_view_module_version": "1.5.0",
            "_view_name": "HBoxView",
            "box_style": "",
            "children": [
              "IPY_MODEL_811eddcebee7416090f372d7c520aa67",
              "IPY_MODEL_1d10bc69afc04a9cb903a36464562719",
              "IPY_MODEL_a3dbf2e1323849a58e672b3a161e4229"
            ],
            "layout": "IPY_MODEL_29c091a239844537bff755d9d84bd14f"
          }
        },
        "811eddcebee7416090f372d7c520aa67": {
          "model_module": "@jupyter-widgets/controls",
          "model_name": "HTMLModel",
          "model_module_version": "1.5.0",
          "state": {
            "_dom_classes": [],
            "_model_module": "@jupyter-widgets/controls",
            "_model_module_version": "1.5.0",
            "_model_name": "HTMLModel",
            "_view_count": null,
            "_view_module": "@jupyter-widgets/controls",
            "_view_module_version": "1.5.0",
            "_view_name": "HTMLView",
            "description": "",
            "description_tooltip": null,
            "layout": "IPY_MODEL_a676e83a65bc4a75bde153dcba18aeea",
            "placeholder": "​",
            "style": "IPY_MODEL_60a0852331fe4cf9845896ce421f05c2",
            "value": "100%"
          }
        },
        "1d10bc69afc04a9cb903a36464562719": {
          "model_module": "@jupyter-widgets/controls",
          "model_name": "FloatProgressModel",
          "model_module_version": "1.5.0",
          "state": {
            "_dom_classes": [],
            "_model_module": "@jupyter-widgets/controls",
            "_model_module_version": "1.5.0",
            "_model_name": "FloatProgressModel",
            "_view_count": null,
            "_view_module": "@jupyter-widgets/controls",
            "_view_module_version": "1.5.0",
            "_view_name": "ProgressView",
            "bar_style": "success",
            "description": "",
            "description_tooltip": null,
            "layout": "IPY_MODEL_e0200a6f39514c60a2cc37aa7a12a022",
            "max": 6412,
            "min": 0,
            "orientation": "horizontal",
            "style": "IPY_MODEL_2f7c483cf4a64cfdae9127de4acc0e57",
            "value": 6412
          }
        },
        "a3dbf2e1323849a58e672b3a161e4229": {
          "model_module": "@jupyter-widgets/controls",
          "model_name": "HTMLModel",
          "model_module_version": "1.5.0",
          "state": {
            "_dom_classes": [],
            "_model_module": "@jupyter-widgets/controls",
            "_model_module_version": "1.5.0",
            "_model_name": "HTMLModel",
            "_view_count": null,
            "_view_module": "@jupyter-widgets/controls",
            "_view_module_version": "1.5.0",
            "_view_name": "HTMLView",
            "description": "",
            "description_tooltip": null,
            "layout": "IPY_MODEL_e9561ca4e9b44e30a9678998968080d8",
            "placeholder": "​",
            "style": "IPY_MODEL_4c817fffdcb347ff9f9243c3b87026ec",
            "value": " 6412/6412 [15:16&lt;00:00,  3.63it/s]"
          }
        },
        "29c091a239844537bff755d9d84bd14f": {
          "model_module": "@jupyter-widgets/base",
          "model_name": "LayoutModel",
          "model_module_version": "1.2.0",
          "state": {
            "_model_module": "@jupyter-widgets/base",
            "_model_module_version": "1.2.0",
            "_model_name": "LayoutModel",
            "_view_count": null,
            "_view_module": "@jupyter-widgets/base",
            "_view_module_version": "1.2.0",
            "_view_name": "LayoutView",
            "align_content": null,
            "align_items": null,
            "align_self": null,
            "border": null,
            "bottom": null,
            "display": null,
            "flex": null,
            "flex_flow": null,
            "grid_area": null,
            "grid_auto_columns": null,
            "grid_auto_flow": null,
            "grid_auto_rows": null,
            "grid_column": null,
            "grid_gap": null,
            "grid_row": null,
            "grid_template_areas": null,
            "grid_template_columns": null,
            "grid_template_rows": null,
            "height": null,
            "justify_content": null,
            "justify_items": null,
            "left": null,
            "margin": null,
            "max_height": null,
            "max_width": null,
            "min_height": null,
            "min_width": null,
            "object_fit": null,
            "object_position": null,
            "order": null,
            "overflow": null,
            "overflow_x": null,
            "overflow_y": null,
            "padding": null,
            "right": null,
            "top": null,
            "visibility": null,
            "width": null
          }
        },
        "a676e83a65bc4a75bde153dcba18aeea": {
          "model_module": "@jupyter-widgets/base",
          "model_name": "LayoutModel",
          "model_module_version": "1.2.0",
          "state": {
            "_model_module": "@jupyter-widgets/base",
            "_model_module_version": "1.2.0",
            "_model_name": "LayoutModel",
            "_view_count": null,
            "_view_module": "@jupyter-widgets/base",
            "_view_module_version": "1.2.0",
            "_view_name": "LayoutView",
            "align_content": null,
            "align_items": null,
            "align_self": null,
            "border": null,
            "bottom": null,
            "display": null,
            "flex": null,
            "flex_flow": null,
            "grid_area": null,
            "grid_auto_columns": null,
            "grid_auto_flow": null,
            "grid_auto_rows": null,
            "grid_column": null,
            "grid_gap": null,
            "grid_row": null,
            "grid_template_areas": null,
            "grid_template_columns": null,
            "grid_template_rows": null,
            "height": null,
            "justify_content": null,
            "justify_items": null,
            "left": null,
            "margin": null,
            "max_height": null,
            "max_width": null,
            "min_height": null,
            "min_width": null,
            "object_fit": null,
            "object_position": null,
            "order": null,
            "overflow": null,
            "overflow_x": null,
            "overflow_y": null,
            "padding": null,
            "right": null,
            "top": null,
            "visibility": null,
            "width": null
          }
        },
        "60a0852331fe4cf9845896ce421f05c2": {
          "model_module": "@jupyter-widgets/controls",
          "model_name": "DescriptionStyleModel",
          "model_module_version": "1.5.0",
          "state": {
            "_model_module": "@jupyter-widgets/controls",
            "_model_module_version": "1.5.0",
            "_model_name": "DescriptionStyleModel",
            "_view_count": null,
            "_view_module": "@jupyter-widgets/base",
            "_view_module_version": "1.2.0",
            "_view_name": "StyleView",
            "description_width": ""
          }
        },
        "e0200a6f39514c60a2cc37aa7a12a022": {
          "model_module": "@jupyter-widgets/base",
          "model_name": "LayoutModel",
          "model_module_version": "1.2.0",
          "state": {
            "_model_module": "@jupyter-widgets/base",
            "_model_module_version": "1.2.0",
            "_model_name": "LayoutModel",
            "_view_count": null,
            "_view_module": "@jupyter-widgets/base",
            "_view_module_version": "1.2.0",
            "_view_name": "LayoutView",
            "align_content": null,
            "align_items": null,
            "align_self": null,
            "border": null,
            "bottom": null,
            "display": null,
            "flex": null,
            "flex_flow": null,
            "grid_area": null,
            "grid_auto_columns": null,
            "grid_auto_flow": null,
            "grid_auto_rows": null,
            "grid_column": null,
            "grid_gap": null,
            "grid_row": null,
            "grid_template_areas": null,
            "grid_template_columns": null,
            "grid_template_rows": null,
            "height": null,
            "justify_content": null,
            "justify_items": null,
            "left": null,
            "margin": null,
            "max_height": null,
            "max_width": null,
            "min_height": null,
            "min_width": null,
            "object_fit": null,
            "object_position": null,
            "order": null,
            "overflow": null,
            "overflow_x": null,
            "overflow_y": null,
            "padding": null,
            "right": null,
            "top": null,
            "visibility": null,
            "width": null
          }
        },
        "2f7c483cf4a64cfdae9127de4acc0e57": {
          "model_module": "@jupyter-widgets/controls",
          "model_name": "ProgressStyleModel",
          "model_module_version": "1.5.0",
          "state": {
            "_model_module": "@jupyter-widgets/controls",
            "_model_module_version": "1.5.0",
            "_model_name": "ProgressStyleModel",
            "_view_count": null,
            "_view_module": "@jupyter-widgets/base",
            "_view_module_version": "1.2.0",
            "_view_name": "StyleView",
            "bar_color": null,
            "description_width": ""
          }
        },
        "e9561ca4e9b44e30a9678998968080d8": {
          "model_module": "@jupyter-widgets/base",
          "model_name": "LayoutModel",
          "model_module_version": "1.2.0",
          "state": {
            "_model_module": "@jupyter-widgets/base",
            "_model_module_version": "1.2.0",
            "_model_name": "LayoutModel",
            "_view_count": null,
            "_view_module": "@jupyter-widgets/base",
            "_view_module_version": "1.2.0",
            "_view_name": "LayoutView",
            "align_content": null,
            "align_items": null,
            "align_self": null,
            "border": null,
            "bottom": null,
            "display": null,
            "flex": null,
            "flex_flow": null,
            "grid_area": null,
            "grid_auto_columns": null,
            "grid_auto_flow": null,
            "grid_auto_rows": null,
            "grid_column": null,
            "grid_gap": null,
            "grid_row": null,
            "grid_template_areas": null,
            "grid_template_columns": null,
            "grid_template_rows": null,
            "height": null,
            "justify_content": null,
            "justify_items": null,
            "left": null,
            "margin": null,
            "max_height": null,
            "max_width": null,
            "min_height": null,
            "min_width": null,
            "object_fit": null,
            "object_position": null,
            "order": null,
            "overflow": null,
            "overflow_x": null,
            "overflow_y": null,
            "padding": null,
            "right": null,
            "top": null,
            "visibility": null,
            "width": null
          }
        },
        "4c817fffdcb347ff9f9243c3b87026ec": {
          "model_module": "@jupyter-widgets/controls",
          "model_name": "DescriptionStyleModel",
          "model_module_version": "1.5.0",
          "state": {
            "_model_module": "@jupyter-widgets/controls",
            "_model_module_version": "1.5.0",
            "_model_name": "DescriptionStyleModel",
            "_view_count": null,
            "_view_module": "@jupyter-widgets/base",
            "_view_module_version": "1.2.0",
            "_view_name": "StyleView",
            "description_width": ""
          }
        }
      }
    }
  },
  "nbformat": 4,
  "nbformat_minor": 0
}